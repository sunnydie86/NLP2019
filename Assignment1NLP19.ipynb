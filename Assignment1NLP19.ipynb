{
 "cells": [
  {
   "cell_type": "markdown",
   "metadata": {},
   "source": [
    "# Assignment 1 on Natural Language Processing\n",
    "\n",
    "## Date : 26th July, 2019\n",
    "\n",
    "### Instructor : Prof. Sudeshna Sarkar\n",
    "\n",
    "### Teaching Assistants : Ishani Mondal, Debanjana Kar, Sukannya Purkayastha"
   ]
  },
  {
   "cell_type": "markdown",
   "metadata": {},
   "source": [
    "The central idea of this assignment is to make you familiar with programming in python and also the language modelling task of natural language processing using the python library, nltk. Please find the installation details below.\n",
    "\n"
   ]
  },
  {
   "cell_type": "markdown",
   "metadata": {},
   "source": [
    "## Installation of NLTK and Anaconda:\n",
    "\n",
    "To ensure we are all on the same page, the coding environment will be in `python3`. We suggest downloading \n",
    "Anaconda3 and creating a separate environment to do this assignment. <br> \n",
    "\n",
    "\n",
    "The link to anaconda3 for Windows and Linux is available here https://docs.anaconda.com/anaconda/install/. <br>\n",
    "The steps to install NLTK is available on the link: <br>\n",
    "\n",
    "`sudo pip3 install nltk` <br>\n",
    "`python3` <br>\n",
    "`nltk.download()` <br>\n",
    "\n",
    "To install gensim, use the following command: (detailed tutorial) <br>\n",
    "`conda install -c conda-forge gensim` <br>\n",
    "\n",
    "<br>\n",
    "\n",
    "Note : For the purpose of your convenience, we are also providing you with a demo hands-on ipython notebook explaining the basics of language modelling using nltk."
   ]
  },
  {
   "cell_type": "markdown",
   "metadata": {},
   "source": [
    "## Assignment Tasks\n",
    "\n",
    "Use the corpus given. Ignore the .concept files and use the .txt files for each disease abstract.\n",
    "\n",
    "### Task A: In this sub-task, you are expected to carry out the following tasks:\n",
    "\n",
    "**Tokenize** the corpus into sentences and words (for each of the pos and neg class). **Print the number of sentences and words.** <br>\n",
    "**Perform case-folding** on the corpus. <br>\n",
    "**Remove the stopwords** from the corpus and print the count of the rest of the non stop-words occurring in the corpus.<br>"
   ]
  },
  {
   "cell_type": "code",
   "execution_count": 1,
   "metadata": {
    "scrolled": false
   },
   "outputs": [
    {
     "name": "stdout",
     "output_type": "stream",
     "text": [
      "No of sentences -195\n",
      "No of words -3723\n",
      "No of words after removing stopwords -2637\n"
     ]
    }
   ],
   "source": [
    "#Write the code for Task A\n",
    "import nltk\n",
    "import re\n",
    "import os\n",
    "from nltk.corpus import stopwords\n",
    "stop_words = set(stopwords.words('english'))\n",
    "\n",
    "\n",
    "directory = '.\\\\NCBI_Data'\n",
    "words = []\n",
    "sent_tokens = []\n",
    "for filename in os.listdir(directory):\n",
    "    if filename.endswith(\".txt\"):\n",
    "        f = open(\".\\\\NCBI_Data\\\\\"+filename).read()\n",
    "        sents = nltk.sent_tokenize(f)\n",
    "        length_sen = len(sents)\n",
    "        for x in range(0,length_sen):\n",
    "            tokens = nltk.word_tokenize(sents[x])\n",
    "            length = len(tokens)\n",
    "            for x in range(0,length):\n",
    "                match = re.match(r\"[a-zA-Z].\",tokens[x])\n",
    "                if match:\n",
    "                    list1 = re.findall(r\".*[a-zA-Z0-9]\",tokens[x])\n",
    "                    if list1:\n",
    "                            tokens.append(list1[0].lower())\n",
    "                else:\n",
    "                    pass\n",
    "            for x in range(0,length):\n",
    "                tokens.pop(0)\n",
    "            words.extend(tokens)\n",
    "            if tokens:\n",
    "                sent_tokens.append(tokens)\n",
    "\n",
    "print(\"No of sentences -\"+str(len(sent_tokens)))\n",
    "print(\"No of words -\"+str(len(words)))\n",
    "for word in words:\n",
    "    if word in stop_words:\n",
    "        words.remove(word)\n",
    "print(\"No of words after removing stopwords -\"+str(len(words)))\n",
    "vocab_len = len(words)"
   ]
  },
  {
   "cell_type": "markdown",
   "metadata": {},
   "source": [
    "### Task B: In this sub-task, you are expected to carry out the following tasks:\n",
    "\n",
    "1. **Create the following language models** on the training corpus: <br>\n",
    "    i.   Unigram <br>\n",
    "    ii.  Bigram <br>\n",
    "    iii. Trigram <br>\n",
    "    iv.  Fourgram <br>\n",
    "\n",
    "2. **List the top 5 bigrams, trigrams, four-grams (with and without Add-1 smoothing).**\n",
    "(Note: Please remove those which contain only articles, prepositions, determiners. For Example: “of the”, “in a”, etc)."
   ]
  },
  {
   "cell_type": "code",
   "execution_count": 2,
   "metadata": {},
   "outputs": [],
   "source": [
    "#Write the code for Task B\n",
    "\n",
    "from nltk.util import ngrams\n",
    "unigrams=[]\n",
    "bigrams=[]\n",
    "trigrams=[]\n",
    "fourgrams=[]\n",
    "#n=2\n",
    "for sentence in sent_tokens:\n",
    "    unigrams.extend(ngrams(sentence,1))\n",
    "    bigrams.extend(ngrams(sentence,2))\n",
    "    ##similar for trigrams and fourgrams\n",
    "    trigrams.extend(ngrams(sentence,3))\n",
    "    fourgrams.extend(ngrams(sentence,4))\n",
    "\n",
    "for bigram in bigrams:\n",
    "    flag = True\n",
    "    for token in bigram:\n",
    "        if token not in stop_words:\n",
    "            flag = False\n",
    "    if flag:\n",
    "        bigrams.remove(bigram)\n",
    "\n",
    "for trigram in trigrams:\n",
    "    flag = True\n",
    "    for token in trigram:\n",
    "        if token not in stop_words:\n",
    "            flag = False\n",
    "    if flag:\n",
    "        trigrams.remove(trigram)\n",
    "for fourgram in fourgrams:\n",
    "    flag = True\n",
    "    for token in fourgram:\n",
    "        if token not in stop_words:\n",
    "            flag = False\n",
    "    if flag:\n",
    "        fourgrams.remove(fourgram)\n",
    "gramlist = [bigrams,trigrams,fourgrams]\n",
    "def get_prob(sentence,model=2):\n",
    "    prob = 1.0\n",
    "    tokens = nltk.word_tokenize(sentence)\n",
    "    length = len(tokens)\n",
    "    for x in range(0,length):\n",
    "        match = re.match(r\"[a-zA-Z].\",tokens[x])\n",
    "        if match:\n",
    "            list1 = re.findall(r\".*[a-zA-Z0-9]\",tokens[x])\n",
    "            if list1:\n",
    "                tokens.append(list1[0].lower())\n",
    "    for x in range(0,length):\n",
    "        tokens.pop(0)\n",
    "    grams = ngrams(tokens,model)\n",
    "    count1 = count2 = 0\n",
    "    for gram in grams:\n",
    "        for ngram in gramlist[model-2]:\n",
    "            if gram == ngram:\n",
    "                count1 = count1 + 1 \n",
    "        for ngram in gramlist[model-2]:\n",
    "            if gram[:-1] == ngram[:-1]:\n",
    "                count2 = count2 + 1 \n",
    "        prob = prob * (count1)/(count2)\n",
    "    return prob"
   ]
  },
  {
   "cell_type": "code",
   "execution_count": 3,
   "metadata": {},
   "outputs": [
    {
     "name": "stdout",
     "output_type": "stream",
     "text": [
      "[(('mutations', 'in'), 15), (('patients', 'with'), 9), (('detected', 'in'), 8), (('mutation', 'was'), 8), (('deficiency', 'of'), 8)]\n",
      "[(('mutations', 'in', 'the'), 6), (('deficiency', 'of', 'the'), 6), (('germline', 'mutations', 'in'), 6), (('the', 'rb1', 'gene'), 4), (('component', 'of', 'complement'), 4)]\n",
      "[(('paternal', 'transmission', 'of', 'congenital_dm'), 3), (('tumour', 'dna', 'from', 'patients'), 2), (('dna', 'from', 'patients', 'with'), 2), (('mutations', 'were', 'detected', 'in'), 2), (('constitutional', 'rb1-gene', 'mutations', 'in'), 2)]\n",
      "0.5172413793103449\n",
      "0.0\n"
     ]
    }
   ],
   "source": [
    "#stopwords = code for downloading stop words through nltk\n",
    "\n",
    "#print top 10 unigrams, bigrams after removing stopwords\n",
    "\n",
    "#print top 10 bigrams, trigrams, fourgrams after removing stopwords\n",
    "fdist = nltk.FreqDist(bigrams)\n",
    "print(fdist.most_common(5))\n",
    "fdist = nltk.FreqDist(trigrams)\n",
    "print(fdist.most_common(5))\n",
    "fdist = nltk.FreqDist(fourgrams)\n",
    "print(fdist.most_common(5))\n",
    "print(get_prob(\"mutations in\",2))\n",
    "print(get_prob(\"at in\",2))"
   ]
  },
  {
   "cell_type": "markdown",
   "metadata": {},
   "source": [
    "### With Smoothing"
   ]
  },
  {
   "cell_type": "code",
   "execution_count": 4,
   "metadata": {},
   "outputs": [
    {
     "name": "stdout",
     "output_type": "stream",
     "text": [
      "0.006001500375093774\n",
      "0.00037764350453172205\n"
     ]
    }
   ],
   "source": [
    "#You are to perform Add-1 smoothing here:\n",
    "#Probability(unigram) = count(unigram)/Number of unique unigrams + Total number of unigrams\n",
    "\n",
    "#write similar code for bigram, trigram and fourgrams\n",
    "def get_prob_after_smoothing(sentence,model=2):\n",
    "    prob = 1.0\n",
    "    tokens = nltk.word_tokenize(sentence)\n",
    "    length = len(tokens)\n",
    "    for x in range(0,length):\n",
    "        match = re.match(r\"[a-zA-Z].\",tokens[x])\n",
    "        if match:\n",
    "            list1 = re.findall(r\".*[a-zA-Z0-9]\",tokens[x])\n",
    "            if list1:\n",
    "                tokens.append(list1[0].lower())\n",
    "    for x in range(0,length):\n",
    "        tokens.pop(0)\n",
    "    grams = ngrams(tokens,model)\n",
    "    count1 = count2 = 0\n",
    "    for gram in grams:\n",
    "        for ngram in gramlist[model-2]:\n",
    "            if gram == ngram:\n",
    "                count1 = count1 + 1 \n",
    "        for ngram in gramlist[model-2]:\n",
    "            if gram[:-1] == ngram[:-1]:\n",
    "                count2 = count2 + 1 \n",
    "        prob = prob * ((count1)+1)/((count2)+(vocab_len**(model-1)))\n",
    "    return prob\n",
    "print(get_prob_after_smoothing(\"mutations in\",2))\n",
    "#non zero probability for unknown combinations\n",
    "print(get_prob_after_smoothing(\"at in\",2))\n",
    "#Print top 10 unigram, bigram, trigram, fourgram after smoothing\n",
    "#Since smoothing does not change actual relative probabilities,\n",
    "#the most most frequent bigrams,trigrams,fourgrams will remain the same"
   ]
  },
  {
   "cell_type": "markdown",
   "metadata": {},
   "source": [
    "### Predict the next word using statistical language modelling\n",
    "\n",
    "Using the above bigram, trigram, and fourgram models that you just experimented with, **predict the next word given the previous n(=2, 3, 4)-grams** for the sentences below."
   ]
  },
  {
   "cell_type": "code",
   "execution_count": 12,
   "metadata": {},
   "outputs": [
    {
     "name": "stdout",
     "output_type": "stream",
     "text": [
      "bigram model prediction: A new tumor suppressor gene, PTEN/MMAC1, was isolated recently at\n",
      "trigram model prediction: A new tumor suppressor gene, PTEN/MMAC1, was isolated recently at\n",
      "fourgram model prediction: A new tumor suppressor gene, PTEN/MMAC1, was isolated recently at\n",
      "bigram model prediction: The average age of disease severity\n",
      "trigram model prediction: The average age of disease concordance\n",
      "fourgram model prediction: The average age of disease onset\n"
     ]
    }
   ],
   "source": [
    "str1 = 'A new tumor suppressor gene, PTEN/MMAC1, was isolated recently'\n",
    "str2 = 'The average age of disease'\n",
    "\n",
    "tokens = nltk.word_tokenize(str1)\n",
    "length = len(tokens)\n",
    "for x in range(0,length):\n",
    "    match = re.match(r\"[a-zA-Z].\",tokens[x])\n",
    "    if match:\n",
    "        list1 = re.findall(r\".*[a-zA-Z0-9]\",tokens[x])\n",
    "        if list1:\n",
    "                tokens.append(list1[0].lower())\n",
    "for x in range(0,length):\n",
    "    tokens.pop(0)\n",
    "fdist = nltk.FreqDist(bigrams)\n",
    "bigrams_freq = fdist.most_common()\n",
    "for bigram in bigrams_freq:\n",
    "    if bigram[0][0] == tokens[-1]:\n",
    "        print(\"bigram model prediction: \"+str1+\" \"+bigram[0][1]) \n",
    "        break\n",
    "fdist = nltk.FreqDist(trigrams)\n",
    "trigrams_freq = fdist.most_common()\n",
    "for trigram in trigrams_freq:\n",
    "    if trigram[0][0] == tokens[-2] and trigram[0][1] == tokens[-1]:\n",
    "        print(\"trigram model prediction: \"+str1+\" \"+trigram[0][2]) \n",
    "        break\n",
    "fdist = nltk.FreqDist(fourgrams)\n",
    "fourgrams_freq = fdist.most_common()\n",
    "for fourgram in fourgrams_freq:\n",
    "    if fourgram[0][0] == tokens[-3] and fourgram[0][1] == tokens[-2] and fourgram[0][2] == tokens[-1]:\n",
    "        print(\"fourgram model prediction: \"+str1+\" \"+fourgram[0][3]) \n",
    "        break\n",
    "tokens = nltk.word_tokenize(str2)\n",
    "length = len(tokens)\n",
    "for x in range(0,length):\n",
    "    match = re.match(r\"[a-zA-Z].\",tokens[x])\n",
    "    if match:\n",
    "        list1 = re.findall(r\".*[a-zA-Z0-9]\",tokens[x])\n",
    "        if list1:\n",
    "                tokens.append(list1[0].lower())\n",
    "for x in range(0,length):\n",
    "    tokens.pop(0)\n",
    "for bigram in bigrams_freq:\n",
    "    if bigram[0][0] == tokens[-1]:\n",
    "        print(\"bigram model prediction: \"+str2+\" \"+bigram[0][1]) \n",
    "        break\n",
    "for trigram in trigrams_freq:\n",
    "    if trigram[0][0] == tokens[-2] and trigram[0][1] == tokens[-1]:\n",
    "        print(\"trigram model prediction: \"+str2+\" \"+trigram[0][2]) \n",
    "        break\n",
    "for fourgram in fourgrams_freq:\n",
    "    if fourgram[0][0] == tokens[-3] and fourgram[0][1] == tokens[-2] and fourgram[0][2] == tokens[-1]:\n",
    "        print(\"fourgram model prediction: \"+str2+\" \"+fourgram[0][3]) \n",
    "        break"
   ]
  },
  {
   "cell_type": "code",
   "execution_count": 13,
   "metadata": {},
   "outputs": [
    {
     "data": {
      "text/plain": [
       "\"\\nFor str1, you are to predict the next  2 possible word sequences using your trained smoothed models. The answers can be as below:()\\n    1) 'A new tumor suppressor gene, PTEN/MMAC1, was isolated recently' *genuinely*\\n    2)  'A new tumor suppressor gene, PTEN/MMAC1, was isolated recently' *yesterday*\\nFor str2, you are to predict the next 2 possible word sequences using your trained smoothed models such as:\\n    (1) 'The average age of disease', *hinders*\\n    (2) 'The average age of disease', *past*\\nThe above answers are not solutions but just examples to explain the task.\\n\""
      ]
     },
     "execution_count": 13,
     "metadata": {},
     "output_type": "execute_result"
    }
   ],
   "source": [
    "'''\n",
    "For str1, you are to predict the next  2 possible word sequences using your trained smoothed models. The answers can be as below:()\n",
    "    1) 'A new tumor suppressor gene, PTEN/MMAC1, was isolated recently' *genuinely*\n",
    "    2)  'A new tumor suppressor gene, PTEN/MMAC1, was isolated recently' *yesterday*\n",
    "For str2, you are to predict the next 2 possible word sequences using your trained smoothed models such as:\n",
    "    (1) 'The average age of disease', *hinders*\n",
    "    (2) 'The average age of disease', *past*\n",
    "The above answers are not solutions but just examples to explain the task.\n",
    "'''"
   ]
  },
  {
   "cell_type": "markdown",
   "metadata": {},
   "source": [
    "# Task C: In this task, you are to perform the following tasks:\n",
    "\n",
    "1. **Train word vectors** on the given corpus. In order to train the word vectors on your corpus, using the gensim module (https://radimrehurek.com/gensim/models/word2vec.html) with pre-trained Google word embeddings (GoogleNews-vectors) . For multi-word disease mentions, concatenate each word with a ‘_’.  <br>\n",
    "\n",
    "2. **Construct a t-SNE plot** of the trained word vectors of the disease mentions.\n",
    "\n",
    "3. **Repeat experiment 1. and 2.** using the following hyper-parameter settings:\n",
    "Use window size = 5, 10.<br>\n",
    "Use embedding dimension = 50, 100, 200.<br>\n"
   ]
  },
  {
   "cell_type": "code",
   "execution_count": 3,
   "metadata": {},
   "outputs": [
    {
     "ename": "DeprecationWarning",
     "evalue": "Deprecated. Use gensim.models.KeyedVectors.load_word2vec_format instead.",
     "output_type": "error",
     "traceback": [
      "\u001b[1;31m---------------------------------------------------------------------------\u001b[0m",
      "\u001b[1;31mDeprecationWarning\u001b[0m                        Traceback (most recent call last)",
      "\u001b[1;32m<ipython-input-3-1fc581d1845c>\u001b[0m in \u001b[0;36m<module>\u001b[1;34m\u001b[0m\n\u001b[0;32m      4\u001b[0m \u001b[1;33m\u001b[0m\u001b[0m\n\u001b[0;32m      5\u001b[0m \u001b[1;31m# Load Google's pre-trained Word2Vec model.\u001b[0m\u001b[1;33m\u001b[0m\u001b[1;33m\u001b[0m\u001b[1;33m\u001b[0m\u001b[0m\n\u001b[1;32m----> 6\u001b[1;33m \u001b[0mmodel\u001b[0m \u001b[1;33m=\u001b[0m \u001b[0mgensim\u001b[0m\u001b[1;33m.\u001b[0m\u001b[0mmodels\u001b[0m\u001b[1;33m.\u001b[0m\u001b[0mWord2Vec\u001b[0m\u001b[1;33m.\u001b[0m\u001b[0mload_word2vec_format\u001b[0m\u001b[1;33m(\u001b[0m\u001b[1;34m'./GoogleNews-vectors-negative300.bin'\u001b[0m\u001b[1;33m,\u001b[0m \u001b[0mbinary\u001b[0m\u001b[1;33m=\u001b[0m\u001b[1;32mTrue\u001b[0m\u001b[1;33m)\u001b[0m\u001b[1;33m\u001b[0m\u001b[1;33m\u001b[0m\u001b[0m\n\u001b[0m\u001b[0;32m      7\u001b[0m \u001b[0mmodel\u001b[0m\u001b[1;33m.\u001b[0m\u001b[0mtrain\u001b[0m\u001b[1;33m(\u001b[0m\u001b[0msent_tokens\u001b[0m\u001b[1;33m,\u001b[0m\u001b[0mwindow\u001b[0m\u001b[1;33m=\u001b[0m\u001b[1;36m5\u001b[0m\u001b[1;33m,\u001b[0m\u001b[0mtotal_examples\u001b[0m\u001b[1;33m=\u001b[0m\u001b[0mlen\u001b[0m\u001b[1;33m(\u001b[0m\u001b[0mwords\u001b[0m\u001b[1;33m)\u001b[0m\u001b[1;33m,\u001b[0m \u001b[0mepochs\u001b[0m\u001b[1;33m=\u001b[0m\u001b[1;36m1\u001b[0m\u001b[1;33m)\u001b[0m\u001b[1;33m\u001b[0m\u001b[1;33m\u001b[0m\u001b[0m\n",
      "\u001b[1;32m~\\Anaconda3\\envs\\nlp_assgn_1\\lib\\site-packages\\gensim\\models\\word2vec.py\u001b[0m in \u001b[0;36mload_word2vec_format\u001b[1;34m(cls, fname, fvocab, binary, encoding, unicode_errors, limit, datatype)\u001b[0m\n\u001b[0;32m    952\u001b[0m             limit=None, datatype=REAL):\n\u001b[0;32m    953\u001b[0m         \u001b[1;34m\"\"\"Deprecated. Use gensim.models.KeyedVectors.load_word2vec_format instead.\"\"\"\u001b[0m\u001b[1;33m\u001b[0m\u001b[1;33m\u001b[0m\u001b[0m\n\u001b[1;32m--> 954\u001b[1;33m         \u001b[1;32mraise\u001b[0m \u001b[0mDeprecationWarning\u001b[0m\u001b[1;33m(\u001b[0m\u001b[1;34m\"Deprecated. Use gensim.models.KeyedVectors.load_word2vec_format instead.\"\u001b[0m\u001b[1;33m)\u001b[0m\u001b[1;33m\u001b[0m\u001b[1;33m\u001b[0m\u001b[0m\n\u001b[0m\u001b[0;32m    955\u001b[0m \u001b[1;33m\u001b[0m\u001b[0m\n\u001b[0;32m    956\u001b[0m     \u001b[1;32mdef\u001b[0m \u001b[0msave_word2vec_format\u001b[0m\u001b[1;33m(\u001b[0m\u001b[0mself\u001b[0m\u001b[1;33m,\u001b[0m \u001b[0mfname\u001b[0m\u001b[1;33m,\u001b[0m \u001b[0mfvocab\u001b[0m\u001b[1;33m=\u001b[0m\u001b[1;32mNone\u001b[0m\u001b[1;33m,\u001b[0m \u001b[0mbinary\u001b[0m\u001b[1;33m=\u001b[0m\u001b[1;32mFalse\u001b[0m\u001b[1;33m)\u001b[0m\u001b[1;33m:\u001b[0m\u001b[1;33m\u001b[0m\u001b[1;33m\u001b[0m\u001b[0m\n",
      "\u001b[1;31mDeprecationWarning\u001b[0m: Deprecated. Use gensim.models.KeyedVectors.load_word2vec_format instead."
     ]
    }
   ],
   "source": [
    "#Write the code for Task C\n",
    "import gensim\n",
    "import os\n",
    "\n",
    "# Load Google's pre-trained Word2Vec model.\n",
    "model = gensim.models.Word2Vec.load_word2vec_format('./GoogleNews-vectors-negative300.bin', binary=True)  \n",
    "model.train(sent_tokens,window=5,total_examples=len(words), epochs=1)"
   ]
  },
  {
   "cell_type": "markdown",
   "metadata": {},
   "source": [
    "### Task D: Predict the next word using neural language modelling\n",
    "\n",
    "Using LSTM Language modelling, you are expected to **train your own word vectors and predict the next word, given the context**."
   ]
  },
  {
   "cell_type": "code",
   "execution_count": 35,
   "metadata": {},
   "outputs": [
    {
     "name": "stdout",
     "output_type": "stream",
     "text": [
      "Vocabulary Size: 1194\n",
      "[[558, 2, 49], [2, 49, 12], [49, 12, 3], [12, 3, 1], [3, 1, 327], [1, 327, 328], [327, 328, 10], [328, 10, 3], [10, 3, 5], [3, 5, 97], [5, 97, 33], [97, 33, 37], [33, 37, 120], [37, 120, 327], [120, 327, 328], [327, 328, 5], [328, 5, 33], [5, 33, 9], [33, 9, 5], [9, 5, 222], [5, 222, 559], [222, 559, 560], [559, 560, 121], [560, 121, 98], [121, 98, 16], [98, 16, 12], [16, 12, 3], [12, 3, 1], [3, 1, 76], [1, 76, 10], [76, 10, 38], [10, 38, 561], [38, 561, 562], [561, 562, 563], [562, 563, 99], [563, 99, 1], [99, 1, 77], [1, 77, 2], [77, 2, 34], [2, 34, 564], [34, 564, 565], [564, 565, 566], [565, 566, 9], [566, 9, 567], [9, 567, 568], [567, 568, 3], [568, 3, 5], [3, 5, 33], [5, 33, 17], [33, 17, 4], [17, 4, 162], [4, 162, 569], [162, 569, 68], [569, 68, 78], [68, 78, 7], [78, 7, 223], [7, 223, 163], [223, 163, 16], [163, 16, 570], [16, 570, 164], [570, 164, 39], [164, 39, 18], [39, 18, 17], [18, 17, 7], [17, 7, 97], [7, 97, 33], [97, 33, 37], [33, 37, 571], [37, 571, 120], [571, 120, 33], [120, 33, 122], [33, 122, 5], [122, 5, 79], [5, 79, 572], [79, 572, 573], [572, 573, 7], [573, 7, 574], [7, 574, 6], [574, 6, 5], [6, 5, 575], [5, 575, 33], [575, 33, 37], [33, 37, 120], [37, 120, 576], [120, 576, 3], [576, 3, 5], [3, 5, 33], [5, 33, 21], [33, 21, 577], [21, 577, 5], [577, 5, 123], [5, 123, 100], [123, 100, 2], [100, 2, 76], [2, 76, 12], [76, 12, 3], [12, 3, 33], [3, 33, 122], [33, 122, 3], [122, 3, 578], [3, 578, 329], [578, 329, 6], [329, 6, 1], [6, 1, 76], [1, 76, 11], [76, 11, 330], [11, 330, 3], [330, 3, 5], [3, 5, 33], [5, 33, 1], [33, 1, 101], [1, 101, 165], [101, 165, 579], [165, 579, 166], [579, 166, 3], [166, 3, 26], [3, 26, 120], [26, 120, 13], [120, 13, 49], [13, 49, 12], [49, 12, 35], [12, 35, 580], [35, 580, 3], [580, 3, 1], [3, 1, 80], [1, 80, 331], [80, 331, 6], [331, 6, 1], [6, 1, 124], [1, 124, 581], [124, 581, 224], [581, 224, 9], [224, 9, 332], [9, 332, 582], [332, 582, 3], [582, 3, 76], [3, 76, 125], [76, 125, 333], [125, 333, 3], [333, 3, 334], [3, 334, 583], [334, 583, 4], [583, 4, 584], [4, 584, 1], [584, 1, 585], [1, 585, 335], [585, 335, 336], [335, 336, 586], [336, 586, 31], [586, 31, 587], [31, 587, 6], [587, 6, 588], [6, 588, 7], [588, 7, 337], [7, 337, 338], [337, 338, 43], [338, 43, 589], [43, 589, 590], [589, 590, 81], [590, 81, 2], [81, 2, 591], [2, 591, 339], [591, 339, 33], [339, 33, 122], [33, 122, 340], [122, 340, 102], [340, 102, 5], [102, 5, 225], [5, 225, 69], [225, 69, 5], [69, 5, 33], [5, 33, 50], [33, 50, 3], [50, 3, 329], [3, 329, 341], [329, 341, 12], [341, 12, 13], [12, 13, 57], [13, 57, 3], [57, 3, 1], [3, 1, 592], [1, 592, 10], [592, 10, 126], [10, 126, 14], [126, 14, 26], [14, 26, 164], [26, 164, 103], [164, 103, 9], [103, 9, 51], [9, 51, 593], [51, 593, 342], [593, 342, 3], [342, 3, 26], [3, 26, 120], [26, 120, 594], [120, 594, 49], [594, 49, 12], [49, 12, 3], [12, 3, 76], [3, 76, 13], [76, 13, 127], [13, 127, 23], [127, 23, 3], [23, 3, 164], [3, 164, 39], [164, 39, 18], [39, 18, 17], [18, 17, 7], [17, 7, 19], [7, 19, 37], [19, 37, 226], [37, 226, 595], [226, 595, 596], [595, 596, 19], [596, 19, 343], [19, 343, 4], [343, 4, 5], [4, 5, 19], [5, 19, 343], [19, 343, 37], [343, 37, 344], [37, 344, 1], [344, 1, 597], [1, 597, 2], [597, 2, 5], [2, 5, 345], [5, 345, 598], [345, 598, 2], [598, 2, 104], [2, 104, 2], [104, 2, 227], [2, 227, 12], [227, 12, 4], [12, 4, 5], [4, 5, 599], [5, 599, 346], [599, 346, 2], [346, 2, 1], [2, 1, 58], [1, 58, 600], [58, 600, 2], [600, 2, 76], [2, 76, 3], [76, 3, 1], [3, 1, 601], [1, 601, 2], [601, 2, 339], [2, 339, 228], [339, 228, 347], [228, 347, 70], [347, 70, 167], [70, 167, 2], [167, 2, 26], [2, 26, 10], [26, 10, 3], [10, 3, 1], [3, 1, 602], [1, 602, 2], [602, 2, 97], [2, 97, 33], [97, 33, 122], [33, 122, 4], [122, 4, 229], [4, 229, 14], [229, 14, 76], [14, 76, 603], [76, 603, 27], [603, 27, 5], [27, 5, 164], [5, 164, 103], [164, 103, 27], [103, 27, 71], [27, 71, 39], [71, 39, 15], [39, 15, 51], [15, 51, 348], [51, 348, 5], [348, 5, 604], [5, 604, 168], [604, 168, 349], [168, 349, 6], [349, 6, 33], [6, 33, 122], [33, 122, 605], [122, 605, 606], [605, 606, 128], [606, 128, 350], [128, 350, 82], [350, 82, 83], [82, 83, 105], [83, 105, 124], [105, 124, 9], [124, 9, 169], [9, 169, 3], [169, 3, 1], [3, 1, 607], [1, 607, 2], [607, 2, 1], [2, 1, 52], [1, 52, 230], [52, 230, 3], [230, 3, 231], [3, 231, 232], [231, 232, 59], [232, 59, 82], [59, 82, 83], [82, 83, 29], [83, 29, 1], [29, 1, 101], [1, 101, 608], [101, 608, 351], [608, 351, 121], [351, 121, 3], [121, 3, 609], [3, 609, 9], [609, 9, 98], [9, 98, 16], [98, 16, 84], [16, 84, 129], [84, 129, 60], [129, 60, 170], [60, 170, 3], [170, 3, 5], [3, 5, 10], [5, 10, 233], [10, 233, 5], [233, 5, 105], [5, 105, 124], [105, 124, 29], [124, 29, 105], [29, 105, 124], [105, 124, 106], [124, 106, 4], [106, 4, 610], [4, 610, 166], [610, 166, 3], [166, 3, 611], [3, 611, 4], [611, 4, 171], [4, 171, 230], [171, 230, 6], [230, 6, 612], [6, 612, 613], [612, 613, 6], [613, 6, 1], [6, 1, 58], [1, 58, 614], [58, 614, 85], [614, 85, 2], [85, 2, 106], [2, 106, 3], [106, 3, 615], [3, 615, 171], [615, 171, 230], [171, 230, 21], [230, 21, 24], [21, 24, 234], [24, 234, 1], [234, 1, 235], [1, 235, 52], [235, 52, 236], [52, 236, 1], [236, 1, 616], [1, 616, 4], [616, 4, 617], [4, 617, 2], [617, 2, 618], [2, 618, 352], [618, 352, 52], [352, 52, 353], [52, 353, 4], [353, 4, 1], [4, 1, 354], [1, 354, 2], [354, 2, 337], [2, 337, 619], [337, 619, 171], [619, 171, 620], [171, 620, 3], [620, 3, 355], [3, 355, 231], [355, 231, 232], [231, 232, 59], [232, 59, 2], [59, 2, 237], [2, 237, 86], [237, 86, 4], [86, 4, 106], [4, 106, 621], [106, 621, 356], [621, 356, 3], [356, 3, 622], [3, 622, 623], [622, 623, 106], [623, 106, 238], [106, 238, 357], [238, 357, 5], [357, 5, 624], [5, 624, 235], [624, 235, 52], [235, 52, 236], [52, 236, 130], [236, 130, 358], [130, 358, 237], [358, 237, 86], [237, 86, 238], [86, 238, 172], [238, 172, 2], [172, 2, 22], [2, 22, 342], [22, 342, 625], [342, 625, 626], [625, 626, 2], [626, 2, 627], [2, 627, 239], [627, 239, 359], [239, 359, 86], [359, 86, 52], [86, 52, 4], [52, 4, 360], [4, 360, 628], [360, 628, 1], [628, 1, 61], [1, 61, 238], [61, 238, 357], [238, 357, 629], [357, 629, 4], [629, 4, 630], [4, 630, 52], [630, 52, 631], [52, 631, 361], [631, 361, 632], [361, 632, 16], [632, 16, 633], [16, 633, 43], [633, 43, 123], [43, 123, 634], [123, 634, 362], [634, 362, 3], [362, 3, 363], [3, 363, 21], [363, 21, 635], [21, 635, 14], [635, 14, 35], [14, 35, 52], [35, 52, 353], [52, 353, 364], [353, 364, 636], [364, 636, 18], [636, 18, 22], [18, 22, 637], [22, 637, 2], [637, 2, 638], [2, 638, 52], [638, 52, 639], [52, 639, 1], [639, 1, 359], [1, 359, 86], [359, 86, 52], [86, 52, 640], [52, 640, 641], [640, 641, 1], [641, 1, 354], [1, 354, 642], [354, 642, 1], [642, 1, 131], [1, 131, 2], [131, 2, 360], [2, 360, 362], [360, 362, 365], [362, 365, 4], [365, 4, 643], [4, 643, 644], [643, 644, 52], [644, 52, 365], [52, 365, 31], [365, 31, 62], [31, 62, 16], [62, 16, 106], [16, 106, 346], [106, 346, 3], [346, 3, 240], [3, 240, 132], [240, 132, 241], [132, 241, 173], [241, 173, 14], [173, 14, 106], [14, 106, 9], [106, 9, 169], [9, 169, 3], [169, 3, 645], [3, 645, 1], [645, 1, 242], [1, 242, 366], [242, 366, 2], [366, 2, 646], [2, 646, 367], [646, 367, 647], [367, 647, 3], [647, 3, 231], [3, 231, 232], [231, 232, 71], [232, 71, 87], [71, 87, 10], [87, 10, 12], [10, 12, 3], [12, 3, 17], [3, 17, 7], [17, 7, 174], [7, 174, 243], [174, 243, 63], [243, 63, 3], [63, 3, 101], [3, 101, 17], [101, 17, 7], [17, 7, 174], [7, 174, 243], [174, 243, 63], [243, 63, 88], [63, 88, 133], [88, 133, 9], [133, 9, 648], [9, 648, 16], [648, 16, 70], [16, 70, 167], [70, 167, 2], [167, 2, 41], [2, 41, 244], [41, 244, 2], [244, 2, 1], [2, 1, 87], [1, 87, 10], [87, 10, 134], [10, 134, 175], [134, 175, 2], [175, 2, 35], [2, 35, 17], [35, 17, 368], [17, 368, 649], [368, 649, 63], [649, 63, 349], [63, 349, 6], [349, 6, 176], [6, 176, 650], [176, 650, 6], [650, 6, 369], [6, 369, 1], [369, 1, 100], [1, 100, 4], [100, 4, 245], [4, 245, 2], [245, 2, 71], [2, 71, 87], [71, 87, 10], [87, 10, 12], [10, 12, 3], [12, 3, 17], [3, 17, 7], [17, 7, 174], [7, 174, 243], [174, 243, 63], [243, 63, 21], [63, 21, 370], [21, 370, 39], [370, 39, 18], [39, 18, 177], [18, 177, 135], [177, 135, 4], [135, 4, 18], [4, 18, 88], [18, 88, 246], [88, 246, 1], [246, 1, 64], [1, 64, 2], [64, 2, 53], [2, 53, 18], [53, 18, 651], [18, 651, 652], [651, 652, 2], [652, 2, 653], [2, 653, 136], [653, 136, 17], [136, 17, 178], [17, 178, 104], [178, 104, 2], [104, 2, 71], [2, 71, 247], [71, 247, 179], [247, 179, 38], [179, 38, 371], [38, 371, 372], [371, 372, 72], [372, 72, 2], [72, 2, 373], [2, 373, 654], [373, 654, 17], [654, 17, 102], [17, 102, 71], [102, 71, 655], [71, 655, 8], [655, 8, 656], [8, 656, 657], [656, 657, 248], [657, 248, 53], [248, 53, 658], [53, 658, 659], [658, 659, 660], [659, 660, 64], [660, 64, 661], [64, 661, 4], [661, 4, 662], [4, 662, 663], [662, 663, 64], [663, 64, 13], [64, 13, 374], [13, 374, 6], [374, 6, 375], [6, 375, 12], [375, 12, 12], [12, 12, 13], [12, 13, 57], [13, 57, 3], [57, 3, 249], [3, 249, 664], [249, 664, 2], [664, 2, 180], [2, 180, 53], [180, 53, 7], [53, 7, 179], [7, 179, 3], [179, 3, 107], [3, 107, 665], [107, 665, 2], [665, 2, 250], [2, 250, 53], [250, 53, 251], [53, 251, 179], [251, 179, 44], [179, 44, 11], [44, 11, 15], [11, 15, 57], [15, 57, 4], [57, 4, 3], [4, 3, 252], [3, 252, 666], [252, 666, 2], [666, 2, 1], [2, 1, 53], [1, 53, 251], [53, 251, 179], [251, 179, 41], [179, 41, 12], [41, 12, 13], [12, 13, 23], [13, 23, 376], [23, 376, 5], [376, 5, 377], [5, 377, 2], [377, 2, 253], [2, 253, 12], [253, 12, 13], [12, 13, 137], [13, 137, 3], [137, 3, 53], [3, 53, 2], [53, 2, 378], [2, 378, 17], [378, 17, 667], [17, 667, 668], [667, 668, 2], [668, 2, 1], [2, 1, 12], [1, 12, 379], [12, 379, 380], [379, 380, 381], [380, 381, 12], [381, 12, 89], [12, 89, 382], [89, 382, 669], [382, 669, 670], [669, 670, 4], [670, 4, 671], [4, 671, 3], [671, 3, 99], [3, 99, 53], [99, 53, 13], [53, 13, 51], [13, 51, 57], [51, 57, 3], [57, 3, 1], [3, 1, 331], [1, 331, 177], [331, 177, 135], [177, 135, 39], [135, 39, 3], [39, 3, 107], [3, 107, 383], [107, 383, 2], [383, 2, 1], [2, 1, 378], [1, 378, 17], [378, 17, 5], [17, 5, 11], [5, 11, 15], [11, 15, 57], [15, 57, 3], [57, 3, 71], [3, 71, 39], [71, 39, 4], [39, 4, 90], [4, 90, 2], [90, 2, 35], [2, 35, 12], [35, 12, 9], [12, 9, 254], [9, 254, 6], [254, 6, 30], [6, 30, 78], [30, 78, 7], [78, 7, 255], [7, 255, 672], [255, 672, 1], [672, 1, 384], [1, 384, 2], [384, 2, 5], [2, 5, 71], [5, 71, 11], [71, 11, 15], [11, 15, 51], [15, 51, 78], [51, 78, 7], [78, 7, 22], [7, 22, 138], [22, 138, 42], [138, 42, 38], [42, 38, 673], [38, 673, 3], [673, 3, 90], [3, 90, 256], [90, 256, 70], [256, 70, 181], [70, 181, 15], [181, 15, 674], [15, 674, 16], [674, 16, 675], [16, 675, 64], [675, 64, 2], [64, 2, 39], [2, 39, 4], [39, 4, 676], [4, 676, 18], [676, 18, 177], [18, 177, 135], [177, 135, 3], [135, 3, 89], [3, 89, 17], [89, 17, 251], [17, 251, 5], [251, 5, 385], [5, 385, 11], [385, 11, 3], [11, 3, 177], [3, 177, 135], [177, 135, 181], [135, 181, 15], [181, 15, 257], [15, 257, 172], [257, 172, 90], [172, 90, 2], [90, 2, 1], [2, 1, 17], [1, 17, 178], [17, 178, 677], [178, 677, 53], [677, 53, 4], [53, 4, 1], [4, 1, 73], [1, 73, 386], [73, 386, 678], [386, 678, 679], [678, 679, 63], [679, 63, 3], [63, 3, 240], [3, 240, 132], [240, 132, 91], [132, 91, 680], [91, 680, 14], [680, 14, 1], [14, 1, 681], [1, 681, 4], [681, 4, 682], [4, 682, 2], [682, 2, 63], [2, 63, 683], [63, 683, 65], [683, 65, 1], [65, 1, 245], [1, 245, 2], [245, 2, 1], [2, 1, 258], [1, 258, 11], [258, 11, 387], [11, 387, 139], [387, 139, 3], [139, 3, 133], [3, 133, 4], [133, 4, 1], [4, 1, 684], [1, 684, 4], [684, 4, 685], [4, 685, 2], [685, 2, 59], [2, 59, 14], [59, 14, 31], [14, 31, 62], [31, 62, 168], [62, 168, 28], [168, 28, 2], [28, 2, 1], [2, 1, 388], [1, 388, 182], [388, 182, 2], [182, 2, 92], [2, 92, 3], [92, 3, 686], [3, 686, 236], [686, 236, 108], [236, 108, 687], [108, 687, 4], [687, 4, 109], [4, 109, 45], [109, 45, 1], [45, 1, 258], [1, 258, 688], [258, 688, 389], [688, 389, 689], [389, 689, 7], [689, 7, 168], [7, 168, 28], [168, 28, 2], [28, 2, 1], [2, 1, 388], [1, 388, 182], [388, 182, 2], [182, 2, 92], [2, 92, 40], [92, 40, 9], [40, 9, 183], [9, 183, 1], [183, 1, 259], [1, 259, 5], [259, 5, 390], [5, 390, 391], [390, 391, 392], [391, 392, 690], [392, 690, 691], [690, 691, 7], [691, 7, 692], [7, 692, 393], [692, 393, 693], [393, 693, 394], [693, 394, 42], [394, 42, 694], [42, 694, 695], [694, 695, 140], [695, 140, 141], [140, 141, 92], [141, 92, 131], [92, 131, 395], [131, 395, 54], [395, 54, 396], [54, 396, 40], [396, 40, 15], [40, 15, 696], [15, 696, 3], [696, 3, 397], [3, 397, 140], [397, 140, 16], [140, 16, 41], [16, 41, 398], [41, 398, 4], [398, 4, 141], [4, 141, 697], [141, 697, 73], [697, 73, 92], [73, 92, 260], [92, 260, 13], [260, 13, 58], [13, 58, 54], [58, 54, 396], [54, 396, 2], [396, 2, 393], [2, 393, 184], [393, 184, 698], [184, 698, 699], [698, 699, 55], [699, 55, 4], [55, 4, 700], [4, 700, 142], [700, 142, 701], [142, 701, 54], [701, 54, 702], [54, 702, 5], [702, 5, 399], [5, 399, 400], [399, 400, 703], [400, 703, 261], [703, 261, 102], [261, 102, 341], [102, 341, 704], [341, 704, 25], [704, 25, 15], [25, 15, 127], [15, 127, 23], [127, 23, 6], [23, 6, 401], [6, 401, 705], [401, 705, 385], [705, 385, 40], [385, 40, 16], [40, 16, 141], [16, 141, 402], [141, 402, 706], [402, 706, 707], [706, 707, 90], [707, 90, 89], [90, 89, 2], [89, 2, 1], [2, 1, 58], [1, 58, 140], [58, 140, 40], [140, 40, 403], [40, 403, 4], [403, 4, 58], [4, 58, 708], [58, 708, 2], [708, 2, 73], [2, 73, 92], [73, 92, 260], [92, 260, 40], [260, 40, 142], [40, 142, 2], [142, 2, 73], [2, 73, 109], [73, 109, 185], [109, 185, 13], [185, 13, 404], [13, 404, 58], [404, 58, 43], [58, 43, 405], [43, 405, 400], [405, 400, 58], [400, 58, 709], [58, 709, 7], [709, 7, 143], [7, 143, 710], [143, 710, 711], [710, 711, 2], [711, 2, 1], [2, 1, 10], [1, 10, 712], [10, 712, 40], [712, 40, 28], [40, 28, 58], [28, 58, 141], [58, 141, 713], [141, 713, 13], [713, 13, 714], [13, 714, 6], [714, 6, 41], [6, 41, 186], [41, 186, 40], [186, 40, 406], [40, 406, 187], [406, 187, 715], [187, 715, 16], [715, 16, 363], [16, 363, 2], [363, 2, 332], [2, 332, 716], [332, 716, 389], [716, 389, 40], [389, 40, 3], [40, 3, 262], [3, 262, 40], [262, 40, 717], [40, 717, 134], [717, 134, 263], [134, 263, 15], [263, 15, 264], [15, 264, 14], [264, 14, 265], [14, 265, 407], [265, 407, 266], [407, 266, 2], [266, 2, 40], [2, 40, 13], [40, 13, 718], [13, 718, 3], [718, 3, 1], [3, 1, 384], [1, 384, 2], [384, 2, 110], [2, 110, 408], [110, 408, 2], [408, 2, 404], [2, 404, 187], [404, 187, 140], [187, 140, 719], [140, 719, 267], [719, 267, 130], [267, 130, 720], [130, 720, 409], [720, 409, 721], [409, 721, 722], [721, 722, 13], [722, 13, 723], [13, 723, 188], [723, 188, 126], [188, 126, 175], [126, 175, 724], [175, 724, 410], [724, 410, 128], [410, 128, 45], [128, 45, 257], [45, 257, 14], [257, 14, 110], [14, 110, 408], [110, 408, 2], [408, 2, 187], [2, 187, 140], [187, 140, 725], [140, 725, 5], [725, 5, 56], [5, 56, 43], [56, 43, 268], [43, 268, 726], [268, 726, 38], [726, 38, 175], [38, 175, 727], [175, 727, 3], [727, 3, 1], [3, 1, 141], [1, 141, 402], [141, 402, 2], [402, 2, 40], [2, 40, 267], [40, 267, 130], [267, 130, 5], [130, 5, 728], [5, 728, 40], [728, 40, 729], [40, 729, 43], [729, 43, 730], [43, 730, 2], [730, 2, 108], [2, 108, 731], [108, 731, 31], [731, 31, 5], [31, 5, 1], [5, 1, 732], [1, 732, 2], [732, 2, 733], [2, 733, 734], [733, 734, 735], [734, 735, 4], [735, 4, 736], [4, 736, 3], [736, 3, 22], [3, 22, 269], [22, 269, 737], [269, 737, 40], [737, 40, 4], [40, 4, 387], [4, 387, 738], [387, 738, 739], [738, 739, 4], [739, 4, 19], [4, 19, 5], [19, 5, 740], [5, 740, 741], [740, 741, 6], [741, 6, 742], [6, 742, 743], [742, 743, 3], [743, 3, 1], [3, 1, 259], [1, 259, 395], [259, 395, 54], [395, 54, 744], [54, 744, 2], [744, 2, 110], [2, 110, 409], [110, 409, 43], [409, 43, 745], [43, 745, 411], [745, 411, 746], [411, 746, 747], [746, 747, 73], [747, 73, 412], [73, 412, 270], [412, 270, 14], [270, 14, 1], [14, 1, 187], [1, 187, 271], [187, 271, 9], [271, 9, 748], [9, 748, 7], [748, 7, 58], [7, 58, 749], [58, 749, 227], [749, 227, 4], [227, 4, 1], [4, 1, 750], [1, 750, 6], [750, 6, 751], [6, 751, 5], [751, 5, 752], [5, 752, 753], [752, 753, 54], [753, 54, 754], [54, 754, 755], [754, 755, 144], [755, 144, 6], [144, 6, 413], [6, 413, 414], [413, 414, 3], [414, 3, 145], [3, 145, 1], [145, 1, 85], [1, 85, 2], [85, 2, 66], [2, 66, 20], [66, 20, 4], [20, 4, 1], [4, 1, 756], [1, 756, 757], [756, 757, 6], [757, 6, 369], [6, 369, 1], [369, 1, 758], [1, 758, 272], [758, 272, 2], [272, 2, 46], [2, 46, 4], [46, 4, 189], [4, 189, 268], [189, 268, 3], [268, 3, 144], [3, 144, 6], [144, 6, 413], [6, 413, 414], [413, 414, 27], [414, 27, 415], [27, 415, 145], [415, 145, 7], [145, 7, 27], [7, 27, 13], [27, 13, 137], [13, 137, 18], [137, 18, 1], [18, 1, 759], [1, 759, 760], [759, 760, 761], [760, 761, 8], [761, 8, 762], [8, 762, 763], [762, 763, 764], [763, 764, 108], [764, 108, 4], [108, 4, 765], [4, 765, 766], [765, 766, 13], [766, 13, 416], [13, 416, 6], [416, 6, 767], [6, 767, 768], [767, 768, 4], [768, 4, 25], [4, 25, 190], [25, 190, 15], [190, 15, 146], [15, 146, 191], [146, 191, 5], [191, 5, 769], [5, 769, 2], [769, 2, 770], [2, 770, 771], [770, 771, 772], [771, 772, 20], [772, 20, 773], [20, 773, 8], [773, 8, 20], [8, 20, 147], [20, 147, 20], [147, 20, 417], [20, 417, 4], [417, 4, 20], [4, 20, 418], [20, 418, 15], [418, 15, 416], [15, 416, 16], [416, 16, 774], [16, 774, 775], [774, 775, 776], [775, 776, 7], [776, 7, 419], [7, 419, 262], [419, 262, 777], [262, 777, 4], [777, 4, 778], [4, 778, 15], [778, 15, 146], [15, 146, 191], [146, 191, 420], [191, 420, 192], [420, 192, 46], [192, 46, 4], [46, 4, 189], [4, 189, 421], [189, 421, 260], [421, 260, 13], [260, 13, 146], [13, 146, 7], [146, 7, 1], [7, 1, 422], [1, 422, 779], [422, 779, 191], [779, 191, 241], [191, 241, 18], [241, 18, 26], [18, 26, 4], [26, 4, 193], [4, 193, 45], [193, 45, 2], [45, 2, 145], [2, 145, 7], [145, 7, 27], [7, 27, 91], [27, 91, 273], [91, 273, 2], [273, 2, 194], [2, 194, 780], [194, 780, 423], [780, 423, 148], [423, 148, 195], [148, 195, 13], [195, 13, 25], [13, 25, 274], [25, 274, 234], [274, 234, 7], [234, 7, 149], [7, 149, 2], [149, 2, 424], [2, 424, 147], [424, 147, 275], [147, 275, 781], [275, 781, 196], [781, 196, 148], [196, 148, 195], [148, 195, 782], [195, 782, 4], [782, 4, 149], [4, 149, 2], [149, 2, 425], [2, 425, 196], [425, 196, 148], [196, 148, 195], [148, 195, 426], [195, 426, 427], [426, 427, 74], [427, 74, 783], [74, 783, 784], [783, 784, 3], [784, 3, 785], [3, 785, 7], [785, 7, 786], [7, 786, 6], [786, 6, 42], [6, 42, 38], [42, 38, 25], [38, 25, 47], [25, 47, 4], [47, 4, 197], [4, 197, 2], [197, 2, 1], [2, 1, 25], [1, 25, 190], [25, 190, 787], [190, 787, 146], [787, 146, 13], [146, 13, 264], [13, 264, 3], [264, 3, 25], [3, 25, 274], [25, 274, 423], [274, 423, 145], [423, 145, 234], [145, 234, 7], [234, 7, 274], [7, 274, 196], [274, 196, 145], [196, 145, 20], [145, 20, 147], [20, 147, 4], [147, 4, 417], [4, 417, 13], [417, 13, 78], [13, 78, 7], [78, 7, 1], [7, 1, 25], [1, 25, 3], [25, 3, 788], [3, 788, 4], [788, 4, 1], [4, 1, 428], [1, 428, 2], [428, 2, 25], [2, 25, 789], [25, 789, 15], [789, 15, 429], [15, 429, 198], [429, 198, 199], [198, 199, 196], [199, 196, 148], [196, 148, 195], [148, 195, 3], [195, 3, 224], [3, 224, 1], [224, 1, 790], [1, 790, 148], [790, 148, 15], [148, 15, 275], [15, 275, 8], [275, 8, 41], [8, 41, 147], [41, 147, 4], [147, 4, 418], [4, 418, 791], [418, 791, 46], [791, 46, 272], [46, 272, 13], [272, 13, 792], [13, 792, 6], [792, 6, 430], [6, 430, 793], [430, 793, 2], [793, 2, 1], [2, 1, 276], [1, 276, 421], [276, 421, 240], [421, 240, 144], [240, 144, 6], [144, 6, 27], [6, 27, 9], [27, 9, 794], [9, 794, 795], [794, 795, 796], [795, 796, 4], [796, 4, 1], [4, 1, 189], [1, 189, 797], [189, 797, 8], [797, 8, 1], [8, 1, 25], [1, 25, 9], [25, 9, 431], [9, 431, 798], [431, 798, 20], [798, 20, 147], [20, 147, 799], [147, 799, 8], [799, 8, 5], [8, 5, 800], [5, 800, 2], [800, 2, 1], [2, 1, 426], [1, 426, 46], [426, 46, 144], [46, 144, 6], [144, 6, 27], [6, 27, 37], [27, 37, 150], [37, 150, 239], [150, 239, 432], [239, 432, 2], [432, 2, 75], [2, 75, 4], [75, 4, 32], [4, 32, 333], [32, 333, 3], [333, 3, 433], [3, 433, 111], [433, 111, 801], [111, 801, 802], [801, 802, 344], [802, 344, 12], [344, 12, 2], [12, 2, 1], [2, 1, 32], [1, 32, 10], [32, 10, 803], [10, 803, 804], [803, 804, 6], [804, 6, 138], [6, 138, 47], [138, 47, 112], [47, 112, 4], [112, 4, 151], [4, 151, 34], [151, 34, 16], [34, 16, 805], [16, 805, 1], [805, 1, 66], [1, 66, 806], [66, 806, 227], [806, 227, 27], [227, 27, 5], [27, 5, 88], [5, 88, 103], [88, 103, 434], [103, 434, 1], [434, 1, 435], [1, 435, 807], [435, 807, 2], [807, 2, 32], [2, 32, 200], [32, 200, 31], [200, 31, 51], [31, 51, 808], [51, 808, 176], [808, 176, 436], [176, 436, 330], [436, 330, 4], [330, 4, 809], [4, 809, 810], [809, 810, 173], [810, 173, 5], [173, 5, 85], [5, 85, 3], [85, 3, 37], [3, 37, 150], [37, 150, 811], [150, 811, 265], [811, 265, 235], [265, 235, 59], [235, 59, 31], [59, 31, 352], [31, 352, 6], [352, 6, 812], [6, 812, 1], [812, 1, 437], [1, 437, 271], [437, 271, 142], [271, 142, 2], [142, 2, 32], [2, 32, 813], [32, 813, 3], [813, 3, 438], [3, 438, 277], [438, 277, 4], [277, 4, 814], [4, 814, 5], [814, 5, 278], [5, 278, 54], [278, 54, 113], [54, 113, 114], [113, 114, 815], [114, 815, 3], [815, 3, 113], [3, 113, 114], [113, 114, 59], [114, 59, 32], [59, 32, 200], [32, 200, 31], [200, 31, 816], [31, 816, 4], [816, 4, 817], [4, 817, 439], [817, 439, 433], [439, 433, 818], [433, 818, 819], [818, 819, 440], [819, 440, 32], [440, 32, 111], [32, 111, 279], [111, 279, 32], [279, 32, 820], [32, 820, 3], [820, 3, 821], [3, 821, 7], [821, 7, 5], [7, 5, 822], [5, 822, 125], [822, 125, 105], [125, 105, 440], [105, 440, 75], [440, 75, 823], [75, 823, 21], [823, 21, 152], [21, 152, 14], [152, 14, 1], [14, 1, 437], [1, 437, 271], [437, 271, 142], [271, 142, 2], [142, 2, 75], [2, 75, 824], [75, 824, 201], [824, 201, 2], [201, 2, 32], [2, 32, 441], [32, 441, 825], [441, 825, 826], [825, 826, 54], [826, 54, 37], [54, 37, 150], [37, 150, 153], [150, 153, 134], [153, 134, 827], [134, 827, 828], [827, 828, 14], [828, 14, 75], [14, 75, 829], [75, 829, 202], [829, 202, 32], [202, 32, 111], [32, 111, 279], [111, 279, 54], [279, 54, 113], [54, 113, 114], [113, 114, 2], [114, 2, 1], [2, 1, 37], [1, 37, 150], [37, 150, 184], [150, 184, 51], [184, 51, 54], [51, 54, 1], [54, 1, 277], [1, 277, 114], [277, 114, 830], [114, 830, 75], [830, 75, 200], [75, 200, 31], [200, 31, 23], [31, 23, 831], [23, 831, 3], [831, 3, 1], [3, 1, 111], [1, 111, 832], [111, 832, 2], [832, 2, 41], [2, 41, 277], [41, 277, 4], [277, 4, 113], [4, 113, 114], [113, 114, 59], [114, 59, 833], [59, 833, 153], [833, 153, 6], [153, 6, 113], [6, 113, 114], [113, 114, 9], [114, 9, 834], [9, 834, 16], [834, 16, 1], [16, 1, 442], [1, 442, 2], [442, 2, 111], [2, 111, 75], [111, 75, 200], [75, 200, 439], [200, 439, 32], [439, 32, 111], [32, 111, 279], [111, 279, 26], [279, 26, 37], [26, 37, 150], [37, 150, 239], [150, 239, 432], [239, 432, 2], [432, 2, 75], [2, 75, 4], [75, 4, 32], [4, 32, 835], [32, 835, 5], [835, 5, 85], [5, 85, 8], [85, 8, 75], [8, 75, 3], [75, 3, 32], [3, 32, 836], [32, 836, 88], [836, 88, 837], [88, 837, 280], [837, 280, 838], [280, 838, 3], [838, 3, 1], [3, 1, 203], [1, 203, 281], [203, 281, 443], [281, 443, 444], [443, 444, 154], [444, 154, 282], [154, 282, 839], [282, 839, 45], [839, 45, 24], [45, 24, 283], [24, 283, 14], [283, 14, 168], [14, 168, 840], [168, 840, 284], [840, 284, 9], [284, 9, 841], [9, 841, 6], [841, 6, 30], [6, 30, 98], [30, 98, 16], [98, 16, 842], [16, 842, 8], [842, 8, 5], [8, 5, 445], [5, 445, 11], [445, 11, 3], [11, 3, 1], [3, 1, 203], [1, 203, 10], [203, 10, 446], [10, 446, 149], [446, 149, 74], [149, 74, 843], [74, 843, 844], [843, 844, 6], [844, 6, 20], [6, 20, 5], [20, 5, 276], [5, 276, 45], [276, 45, 2], [45, 2, 26], [2, 26, 282], [26, 282, 31], [282, 31, 845], [31, 845, 16], [845, 16, 1], [16, 1, 846], [1, 846, 14], [846, 14, 1], [14, 1, 445], [1, 445, 11], [445, 11, 847], [11, 847, 5], [847, 5, 848], [5, 848, 285], [848, 285, 447], [285, 447, 21], [447, 21, 24], [21, 24, 286], [24, 286, 1], [286, 1, 281], [1, 281, 443], [281, 443, 444], [443, 444, 154], [444, 154, 282], [154, 282, 3], [282, 3, 204], [3, 204, 280], [204, 280, 448], [280, 448, 3], [448, 3, 849], [3, 849, 7], [849, 7, 193], [7, 193, 412], [193, 412, 1], [412, 1, 154], [1, 154, 50], [154, 50, 850], [50, 850, 6], [850, 6, 30], [6, 30, 79], [30, 79, 43], [79, 43, 449], [43, 449, 3], [449, 3, 851], [3, 851, 852], [851, 852, 853], [852, 853, 450], [853, 450, 1], [450, 1, 451], [1, 451, 50], [451, 50, 100], [50, 100, 287], [100, 287, 74], [287, 74, 15], [74, 15, 23], [15, 23, 3], [23, 3, 854], [3, 854, 855], [854, 855, 89], [855, 89, 4], [89, 4, 856], [4, 856, 90], [856, 90, 194], [90, 194, 102], [194, 102, 429], [102, 429, 857], [429, 857, 452], [857, 452, 2], [452, 2, 1], [2, 1, 154], [1, 154, 50], [154, 50, 858], [50, 858, 7], [858, 7, 50], [7, 50, 452], [50, 452, 288], [452, 288, 65], [288, 65, 205], [65, 205, 859], [205, 859, 2], [859, 2, 284], [2, 284, 178], [284, 178, 175], [178, 175, 860], [175, 860, 7], [860, 7, 1], [7, 1, 861], [1, 861, 241], [861, 241, 453], [241, 453, 3], [453, 3, 862], [3, 862, 1], [862, 1, 863], [1, 863, 183], [863, 183, 203], [183, 203, 454], [203, 454, 864], [454, 864, 5], [864, 5, 289], [5, 289, 865], [289, 865, 6], [865, 6, 1], [6, 1, 455], [1, 455, 2], [455, 2, 284], [2, 284, 27], [284, 27, 456], [27, 456, 27], [456, 27, 45], [27, 45, 2], [45, 2, 1], [2, 1, 457], [1, 457, 48], [457, 48, 1], [48, 1, 203], [1, 203, 154], [203, 154, 50], [154, 50, 4], [50, 4, 204], [4, 204, 458], [204, 458, 379], [458, 379, 34], [379, 34, 143], [34, 143, 459], [143, 459, 460], [459, 460, 290], [460, 290, 291], [290, 291, 78], [291, 78, 7], [78, 7, 5], [7, 5, 49], [5, 49, 11], [49, 11, 233], [11, 233, 461], [233, 461, 462], [461, 462, 3], [462, 3, 463], [3, 463, 464], [463, 464, 143], [464, 143, 459], [143, 459, 460], [459, 460, 290], [460, 290, 291], [290, 291, 465], [291, 465, 9], [465, 9, 22], [9, 22, 292], [22, 292, 25], [292, 25, 98], [25, 98, 16], [98, 16, 466], [16, 466, 866], [466, 866, 2], [866, 2, 1], [2, 1, 467], [1, 467, 867], [467, 867, 2], [867, 2, 1], [2, 1, 868], [1, 868, 869], [868, 869, 6], [869, 6, 206], [6, 206, 870], [206, 870, 6], [870, 6, 871], [6, 871, 1], [871, 1, 872], [1, 872, 873], [872, 873, 874], [873, 874, 293], [874, 293, 62], [293, 62, 93], [62, 93, 31], [93, 31, 51], [31, 51, 875], [51, 875, 38], [875, 38, 468], [38, 468, 184], [468, 184, 876], [184, 876, 877], [876, 877, 290], [877, 290, 291], [290, 291, 38], [291, 38, 90], [38, 90, 107], [90, 107, 878], [107, 878, 2], [878, 2, 42], [2, 42, 1], [42, 1, 46], [1, 46, 879], [46, 879, 2], [879, 2, 1], [2, 1, 25], [1, 25, 9], [25, 9, 1], [9, 1, 293], [1, 293, 463], [293, 463, 464], [463, 464, 207], [464, 207, 10], [207, 10, 4], [10, 4, 12], [4, 12, 14], [12, 14, 880], [14, 880, 465], [880, 465, 24], [465, 24, 68], [24, 68, 23], [68, 23, 3], [23, 3, 41], [3, 41, 1], [41, 1, 469], [1, 469, 881], [469, 881, 2], [881, 2, 1], [2, 1, 882], [1, 882, 293], [882, 293, 207], [293, 207, 883], [207, 883, 4], [883, 4, 202], [4, 202, 207], [202, 207, 884], [207, 884, 22], [884, 22, 62], [22, 62, 885], [62, 885, 261], [885, 261, 470], [261, 470, 38], [470, 38, 252], [38, 252, 886], [252, 886, 2], [886, 2, 42], [2, 42, 4], [42, 4, 397], [4, 397, 887], [397, 887, 62], [887, 62, 399], [62, 399, 888], [399, 888, 4], [888, 4, 294], [4, 294, 13], [294, 13, 197], [13, 197, 23], [197, 23, 6], [23, 6, 24], [6, 24, 5], [24, 5, 208], [5, 208, 49], [208, 49, 11], [49, 11, 889], [11, 889, 33], [889, 33, 233], [33, 233, 1], [233, 1, 335], [1, 335, 336], [335, 336, 890], [336, 890, 461], [890, 461, 462], [461, 462, 202], [462, 202, 207], [202, 207, 1], [207, 1, 11], [1, 11, 15], [11, 15, 891], [15, 891, 16], [891, 16, 285], [16, 285, 892], [285, 892, 64], [892, 64, 5], [64, 5, 893], [5, 893, 894], [893, 894, 895], [894, 895, 896], [895, 896, 897], [896, 897, 2], [897, 2, 1], [2, 1, 471], [1, 471, 472], [471, 472, 898], [472, 898, 899], [898, 899, 22], [899, 22, 900], [22, 900, 901], [900, 901, 472], [901, 472, 902], [472, 902, 903], [902, 903, 26], [903, 26, 11], [26, 11, 155], [11, 155, 30], [155, 30, 904], [30, 904, 8], [904, 8, 905], [8, 905, 906], [905, 906, 2], [906, 2, 907], [2, 907, 292], [907, 292, 908], [292, 908, 27], [908, 27, 1], [27, 1, 138], [1, 138, 42], [138, 42, 2], [42, 2, 47], [2, 47, 2], [47, 2, 295], [2, 295, 229], [295, 229, 14], [229, 14, 26], [14, 26, 11], [26, 11, 155], [11, 155, 30], [155, 30, 453], [30, 453, 909], [453, 909, 6], [909, 6, 1], [6, 1, 467], [1, 467, 910], [467, 910, 165], [910, 165, 167], [165, 167, 2], [167, 2, 209], [2, 209, 210], [209, 210, 3], [210, 3, 911], [3, 911, 115], [911, 115, 34], [115, 34, 97], [34, 97, 115], [97, 115, 912], [115, 912, 9], [912, 9, 1], [9, 1, 101], [1, 101, 116], [101, 116, 296], [116, 296, 34], [296, 34, 3], [34, 3, 1], [3, 1, 913], [1, 913, 914], [913, 914, 473], [914, 473, 915], [473, 915, 2], [915, 2, 1], [2, 1, 297], [1, 297, 46], [297, 46, 366], [46, 366, 169], [366, 169, 3], [169, 3, 1], [3, 1, 153], [1, 153, 2], [153, 2, 26], [2, 26, 474], [26, 474, 916], [474, 916, 34], [916, 34, 441], [34, 441, 6], [441, 6, 30], [6, 30, 917], [30, 917, 918], [917, 918, 919], [918, 919, 4], [919, 4, 920], [4, 920, 45], [920, 45, 24], [45, 24, 69], [24, 69, 165], [69, 165, 104], [165, 104, 2], [104, 2, 247], [2, 247, 65], [247, 65, 223], [65, 223, 921], [223, 921, 475], [921, 475, 3], [475, 3, 97], [3, 97, 115], [97, 115, 34], [115, 34, 476], [34, 476, 922], [476, 922, 45], [922, 45, 24], [45, 24, 923], [24, 923, 137], [923, 137, 5], [137, 5, 80], [5, 80, 2], [80, 2, 211], [2, 211, 212], [211, 212, 6], [212, 6, 30], [6, 30, 1], [30, 1, 924], [1, 924, 477], [924, 477, 2], [477, 2, 104], [2, 104, 5], [104, 5, 289], [5, 289, 88], [289, 88, 103], [88, 103, 10], [103, 10, 209], [10, 209, 210], [209, 210, 15], [210, 15, 174], [15, 174, 478], [174, 478, 38], [478, 38, 26], [38, 26, 80], [26, 80, 2], [80, 2, 211], [2, 211, 212], [211, 212, 4], [212, 4, 23], [4, 23, 6], [23, 6, 30], [6, 30, 925], [30, 925, 16], [925, 16, 11], [16, 11, 3], [11, 3, 72], [3, 72, 115], [72, 115, 34], [115, 34, 37], [34, 37, 926], [37, 926, 21], [926, 21, 927], [21, 927, 928], [927, 928, 115], [928, 115, 53], [115, 53, 16], [53, 16, 420], [16, 420, 64], [420, 64, 4], [64, 4, 23], [4, 23, 211], [23, 211, 212], [211, 212, 6], [212, 6, 30], [6, 30, 929], [30, 929, 3], [929, 3, 180], [3, 180, 213], [180, 213, 21], [213, 21, 930], [21, 930, 931], [930, 931, 7], [931, 7, 419], [7, 419, 64], [419, 64, 2], [64, 2, 1], [2, 1, 932], [1, 932, 209], [932, 209, 210], [209, 210, 214], [210, 214, 80], [214, 80, 4], [80, 4, 933], [4, 933, 8], [933, 8, 186], [8, 186, 476], [186, 476, 7], [476, 7, 289], [7, 289, 371], [289, 371, 192], [371, 192, 3], [192, 3, 35], [3, 35, 180], [35, 180, 213], [180, 213, 7], [213, 7, 212], [7, 212, 104], [212, 104, 2], [104, 2, 247], [2, 247, 1], [247, 1, 479], [1, 479, 2], [479, 2, 1], [2, 1, 156], [1, 156, 480], [156, 480, 934], [480, 934, 3], [934, 3, 481], [3, 481, 935], [481, 935, 53], [935, 53, 347], [53, 347, 209], [347, 209, 210], [209, 210, 27], [210, 27, 5], [27, 5, 936], [5, 936, 167], [936, 167, 937], [167, 937, 2], [937, 2, 475], [2, 475, 104], [475, 104, 3], [104, 3, 97], [3, 97, 115], [97, 115, 34], [115, 34, 77], [34, 77, 482], [77, 482, 3], [482, 3, 298], [3, 298, 299], [298, 299, 8], [299, 8, 483], [8, 483, 25], [483, 25, 1], [25, 1, 258], [1, 258, 298], [258, 298, 299], [298, 299, 8], [299, 8, 483], [8, 483, 25], [483, 25, 300], [25, 300, 15], [300, 15, 288], [15, 288, 65], [288, 65, 64], [65, 64, 2], [64, 2, 938], [2, 938, 939], [938, 939, 39], [939, 39, 192], [39, 192, 6], [192, 6, 940], [6, 940, 1], [940, 1, 301], [1, 301, 2], [301, 2, 941], [2, 941, 1], [941, 1, 11], [1, 11, 8], [11, 8, 300], [8, 300, 942], [300, 942, 6], [942, 6, 484], [6, 484, 943], [484, 943, 944], [943, 944, 48], [944, 48, 1], [48, 1, 39], [1, 39, 192], [39, 192, 4], [192, 4, 1], [4, 1, 11], [1, 11, 945], [11, 945, 946], [945, 946, 4], [946, 4, 947], [4, 947, 39], [947, 39, 340], [39, 340, 13], [340, 13, 348], [13, 348, 18], [348, 18, 109], [18, 109, 185], [109, 185, 7], [185, 7, 302], [7, 302, 485], [302, 485, 8], [485, 8, 1], [8, 1, 300], [1, 300, 11], [300, 11, 21], [11, 21, 24], [21, 24, 146], [24, 146, 1], [146, 1, 484], [1, 484, 2], [484, 2, 91], [2, 91, 188], [91, 188, 16], [188, 16, 486], [16, 486, 948], [486, 948, 265], [948, 265, 949], [265, 949, 6], [949, 6, 358], [6, 358, 950], [358, 950, 16], [950, 16, 1], [16, 1, 951], [1, 951, 93], [951, 93, 8], [93, 8, 273], [8, 273, 487], [273, 487, 93], [487, 93, 952], [93, 952, 15], [952, 15, 345], [15, 345, 953], [345, 953, 48], [953, 48, 1], [48, 1, 485], [1, 485, 72], [485, 72, 954], [72, 954, 18], [954, 18, 5], [18, 5, 206], [5, 206, 77], [206, 77, 6], [77, 6, 22], [6, 22, 198], [22, 198, 77], [198, 77, 303], [77, 303, 3], [303, 3, 304], [3, 304, 72], [304, 72, 1], [72, 1, 77], [1, 77, 15], [77, 15, 206], [15, 206, 955], [206, 955, 2], [955, 2, 1], [2, 1, 956], [1, 956, 957], [956, 957, 8], [957, 8, 35], [8, 35, 166], [35, 166, 3], [166, 3, 91], [3, 91, 4], [91, 4, 958], [4, 958, 2], [958, 2, 35], [2, 35, 77], [35, 77, 482], [77, 482, 65], [482, 65, 41], [65, 41, 17], [41, 17, 4], [17, 4, 1], [4, 1, 959], [1, 959, 960], [959, 960, 368], [960, 368, 961], [368, 961, 3], [961, 3, 1], [3, 1, 133], [1, 133, 2], [133, 2, 962], [2, 962, 8], [962, 8, 1], [8, 1, 963], [1, 963, 4], [963, 4, 964], [4, 964, 965], [964, 965, 966], [965, 966, 2], [966, 2, 5], [2, 5, 77], [5, 77, 967], [77, 967, 3], [967, 3, 968], [3, 968, 298], [968, 298, 299], [298, 299, 422], [299, 422, 5], [422, 5, 208], [5, 208, 116], [208, 116, 49], [116, 49, 11], [49, 11, 215], [11, 215, 3], [215, 3, 1], [3, 1, 129], [1, 129, 488], [129, 488, 107], [488, 107, 489], [107, 489, 490], [489, 490, 10], [490, 10, 3], [10, 3, 491], [3, 491, 157], [491, 157, 491], [157, 491, 157], [491, 157, 305], [157, 305, 157], [305, 157, 9], [157, 9, 22], [9, 22, 143], [22, 143, 222], [143, 222, 492], [222, 492, 969], [492, 969, 121], [969, 121, 98], [121, 98, 16], [98, 16, 5], [16, 5, 46], [5, 46, 306], [46, 306, 3], [306, 3, 129], [3, 129, 488], [129, 488, 107], [488, 107, 489], [107, 489, 490], [489, 490, 307], [490, 307, 3], [307, 3, 193], [3, 193, 45], [193, 45, 21], [45, 21, 24], [21, 24, 23], [24, 23, 81], [23, 81, 116], [81, 116, 12], [116, 12, 3], [12, 3, 970], [3, 970, 4], [970, 4, 971], [4, 971, 493], [971, 493, 6], [493, 6, 494], [6, 494, 1], [494, 1, 480], [1, 480, 972], [480, 972, 3], [972, 3, 973], [3, 973, 280], [973, 280, 448], [280, 448, 12], [448, 12, 3], [12, 3, 1], [3, 1, 307], [1, 307, 10], [307, 10, 3], [10, 3, 308], [3, 308, 305], [308, 305, 157], [305, 157, 17], [157, 17, 13], [17, 13, 309], [13, 309, 4], [309, 4, 46], [4, 46, 974], [46, 974, 13], [974, 13, 975], [13, 975, 370], [975, 370, 6], [370, 6, 375], [6, 375, 976], [375, 976, 310], [976, 310, 288], [310, 288, 65], [288, 65, 977], [65, 977, 39], [977, 39, 495], [39, 495, 496], [495, 496, 72], [496, 72, 208], [72, 208, 49], [208, 49, 12], [49, 12, 978], [12, 978, 137], [978, 137, 225], [137, 225, 3], [225, 3, 73], [3, 73, 450], [73, 450, 4], [450, 4, 23], [4, 23, 3], [23, 3, 250], [3, 250, 979], [250, 979, 2], [979, 2, 497], [2, 497, 308], [497, 308, 305], [308, 305, 157], [305, 157, 498], [157, 498, 244], [498, 244, 499], [244, 499, 8], [499, 8, 980], [8, 980, 89], [980, 89, 2], [89, 2, 1], [2, 1, 244], [1, 244, 3], [244, 3, 26], [3, 26, 311], [26, 311, 1], [311, 1, 215], [1, 215, 4], [215, 4, 981], [4, 981, 12], [981, 12, 499], [12, 499, 8], [499, 8, 982], [8, 982, 149], [982, 149, 4], [149, 4, 481], [4, 481, 74], [481, 74, 2], [74, 2, 12], [2, 12, 493], [12, 493, 500], [493, 500, 1], [500, 1, 983], [1, 983, 984], [983, 984, 9], [984, 9, 407], [9, 407, 6], [407, 6, 5], [6, 5, 985], [5, 985, 50], [985, 50, 1], [50, 1, 986], [1, 986, 205], [986, 205, 2], [205, 2, 215], [2, 215, 3], [215, 3, 312], [3, 312, 308], [312, 308, 17], [308, 17, 4], [17, 4, 987], [4, 987, 64], [987, 64, 16], [64, 16, 285], [16, 285, 988], [285, 988, 216], [988, 216, 989], [216, 989, 3], [989, 3, 1], [3, 1, 307], [1, 307, 10], [307, 10, 173], [10, 173, 14], [173, 14, 215], [14, 215, 990], [215, 990, 18], [990, 18, 5], [18, 5, 116], [5, 116, 991], [116, 991, 350], [991, 350, 2], [350, 2, 1], [2, 1, 46], [1, 46, 992], [46, 992, 16], [992, 16, 993], [16, 993, 2], [993, 2, 495], [2, 495, 496], [495, 496, 270], [496, 270, 14], [270, 14, 197], [14, 197, 132], [197, 132, 17], [132, 17, 31], [17, 31, 431], [31, 431, 2], [431, 2, 994], [2, 994, 995], [994, 995, 996], [995, 996, 110], [996, 110, 100], [110, 100, 2], [100, 2, 32], [2, 32, 67], [32, 67, 12], [67, 12, 3], [12, 3, 253], [3, 253, 501], [253, 501, 112], [501, 112, 151], [112, 151, 34], [151, 34, 36], [34, 36, 3], [36, 3, 26], [3, 26, 311], [26, 311, 21], [311, 21, 309], [21, 309, 253], [309, 253, 501], [253, 501, 112], [501, 112, 151], [112, 151, 34], [151, 34, 36], [34, 36, 8], [36, 8, 67], [8, 67, 12], [67, 12, 3], [12, 3, 1], [3, 1, 32], [1, 32, 10], [32, 10, 21], [10, 21, 137], [21, 137, 502], [137, 502, 67], [502, 67, 12], [67, 12, 3], [12, 3, 72], [3, 72, 112], [72, 112, 34], [112, 34, 36], [34, 36, 4], [36, 4, 3], [4, 3, 44], [3, 44, 112], [44, 112, 151], [112, 151, 34], [151, 34, 109], [34, 109, 199], [109, 199, 35], [199, 35, 13], [35, 13, 44], [13, 44, 997], [44, 997, 11], [997, 11, 44], [11, 44, 503], [44, 503, 11], [503, 11, 44], [11, 44, 208], [44, 208, 998], [208, 998, 447], [998, 447, 11], [447, 11, 4], [11, 4, 44], [4, 44, 49], [44, 49, 11], [49, 11, 1], [11, 1, 49], [1, 49, 11], [49, 11, 15], [11, 15, 127], [15, 127, 23], [127, 23, 3], [23, 3, 89], [3, 89, 194], [89, 194, 2], [194, 2, 1], [2, 1, 999], [1, 999, 276], [999, 276, 126], [276, 126, 14], [126, 14, 263], [14, 263, 9], [263, 9, 51], [9, 51, 25], [51, 25, 78], [25, 78, 1], [78, 1, 313], [1, 313, 42], [313, 42, 2], [42, 2, 25], [2, 25, 47], [25, 47, 3], [47, 3, 201], [3, 201, 36], [201, 36, 504], [36, 504, 1000], [504, 1000, 12], [1000, 12, 15], [12, 15, 48], [15, 48, 425], [48, 425, 99], [425, 99, 4], [99, 4, 1001], [4, 1001, 149], [1001, 149, 117], [149, 117, 500], [117, 500, 1], [500, 1, 109], [1, 109, 504], [109, 504, 1], [504, 1, 49], [1, 49, 11], [49, 11, 102], [11, 102, 22], [102, 22, 313], [22, 313, 42], [313, 42, 2], [42, 2, 47], [2, 47, 2], [47, 2, 1002], [2, 1002, 89], [1002, 89, 117], [89, 117, 35], [117, 35, 1003], [35, 1003, 152], [1003, 152, 14], [152, 14, 32], [14, 32, 9], [32, 9, 1004], [9, 1004, 3], [1004, 3, 5], [3, 5, 381], [5, 381, 158], [381, 158, 2], [158, 2, 112], [2, 112, 151], [112, 151, 34], [151, 34, 36], [34, 36, 126], [36, 126, 1], [126, 1, 505], [1, 505, 2], [505, 2, 304], [2, 304, 144], [304, 144, 10], [144, 10, 113], [10, 113, 217], [113, 217, 118], [217, 118, 2], [118, 2, 94], [2, 94, 82], [94, 82, 83], [82, 83, 21], [83, 21, 1005], [21, 1005, 5], [1005, 5, 79], [5, 79, 1006], [79, 1006, 2], [1006, 2, 506], [2, 506, 1007], [506, 1007, 94], [1007, 94, 82], [94, 82, 83], [82, 83, 29], [83, 29, 1], [29, 1, 259], [1, 259, 9], [259, 9, 5], [9, 5, 180], [5, 180, 391], [180, 391, 392], [391, 392, 1008], [392, 1008, 1009], [1008, 1009, 296], [1009, 296, 261], [296, 261, 1010], [261, 1010, 314], [1010, 314, 351], [314, 351, 1011], [351, 1011, 1012], [1011, 1012, 470], [1012, 470, 7], [470, 7, 1013], [7, 1013, 4], [1013, 4, 1014], [4, 1014, 1015], [1014, 1015, 38], [1015, 38, 468], [38, 468, 1016], [468, 1016, 81], [1016, 81, 1017], [81, 1017, 1018], [1017, 1018, 18], [1018, 18, 1019], [18, 1019, 47], [1019, 47, 29], [47, 29, 176], [29, 176, 438], [176, 438, 294], [438, 294, 102], [294, 102, 1], [102, 1, 507], [1, 507, 86], [507, 86, 2], [86, 2, 29], [2, 29, 7], [29, 7, 47], [7, 47, 1020], [47, 1020, 508], [1020, 508, 117], [508, 117, 312], [117, 312, 273], [312, 273, 73], [273, 73, 213], [73, 213, 2], [213, 2, 217], [2, 217, 118], [217, 118, 2], [118, 2, 94], [2, 94, 29], [94, 29, 24], [29, 24, 68], [24, 68, 69], [68, 69, 478], [69, 478, 21], [478, 21, 1021], [21, 1021, 1], [1021, 1, 1022], [1, 1022, 125], [1022, 125, 272], [125, 272, 65], [272, 65, 118], [65, 118, 2], [118, 2, 94], [2, 94, 29], [94, 29, 206], [29, 206, 1023], [206, 1023, 2], [1023, 2, 1024], [2, 1024, 7], [1024, 7, 507], [7, 507, 47], [507, 47, 29], [47, 29, 4], [29, 4, 367], [4, 367, 2], [367, 2, 1], [2, 1, 60], [1, 60, 361], [60, 361, 296], [361, 296, 118], [296, 118, 430], [118, 430, 6], [430, 6, 1], [6, 1, 1025], [1, 1025, 449], [1025, 449, 1026], [449, 1026, 2], [1026, 2, 217], [2, 217, 118], [217, 118, 2], [118, 2, 94], [2, 94, 29], [94, 29, 127], [29, 127, 1], [127, 1, 471], [1, 471, 2], [471, 2, 1], [2, 1, 69], [1, 69, 1027], [69, 1027, 62], [1027, 62, 509], [62, 509, 178], [509, 178, 65], [178, 65, 313], [65, 313, 1028], [313, 1028, 84], [1028, 84, 60], [84, 60, 1029], [60, 1029, 4], [1029, 4, 1030], [4, 1030, 1031], [1030, 1031, 314], [1031, 314, 108], [314, 108, 295], [108, 295, 130], [295, 130, 1], [130, 1, 1032], [1, 1032, 2], [1032, 2, 509], [2, 509, 7], [509, 7, 94], [7, 94, 29], [94, 29, 21], [29, 21, 1033], [21, 1033, 14], [1033, 14, 217], [14, 217, 118], [217, 118, 2], [118, 2, 94], [2, 94, 29], [94, 29, 9], [29, 9, 79], [9, 79, 4], [79, 4, 1034], [4, 1034, 510], [1034, 510, 7], [510, 7, 47], [7, 47, 2], [47, 2, 29], [2, 29, 1035], [29, 1035, 508], [1035, 508, 117], [508, 117, 3], [117, 3, 1], [3, 1, 294], [1, 294, 1], [294, 1, 87], [1, 87, 10], [87, 10, 11], [10, 11, 3], [11, 3, 5], [3, 5, 511], [5, 511, 7], [511, 7, 512], [7, 512, 513], [512, 513, 63], [513, 63, 1], [63, 1, 87], [1, 87, 10], [87, 10, 11], [10, 11, 15], [11, 15, 309], [15, 309, 3], [309, 3, 5], [3, 5, 511], [5, 511, 7], [511, 7, 512], [7, 512, 513], [512, 513, 63], [513, 63, 191], [63, 191, 39], [191, 39, 188], [39, 188, 18], [188, 18, 41], [18, 41, 1], [41, 1, 514], [1, 514, 4], [514, 4, 515], [4, 515, 228], [515, 228, 2], [228, 2, 1], [2, 1, 256], [1, 256, 5], [256, 5, 503], [5, 503, 11], [503, 11, 3], [11, 3, 1036], [3, 1036, 383], [1036, 383, 281], [383, 281, 1037], [281, 1037, 2], [1037, 2, 1], [2, 1, 87], [1, 87, 10], [87, 10, 15], [10, 15, 23], [15, 23, 6], [23, 6, 30], [6, 30, 516], [30, 516, 1038], [516, 1038, 3], [1038, 3, 41], [3, 41, 1], [41, 1, 515], [1, 515, 4], [515, 4, 1], [4, 1, 514], [1, 514, 228], [514, 228, 1], [228, 1, 1039], [1, 1039, 11], [1039, 11, 15], [11, 15, 516], [15, 516, 1040], [516, 1040, 3], [1040, 3, 1], [3, 1, 39], [1, 39, 18], [39, 18, 1], [18, 1, 71], [1, 71, 59], [71, 59, 2], [59, 2, 1], [2, 1, 256], [1, 256, 1041], [256, 1041, 263], [1041, 263, 6], [263, 6, 30], [6, 30, 2], [30, 2, 67], [2, 67, 310], [67, 310, 1], [310, 1, 242], [1, 242, 11], [242, 11, 15], [11, 15, 283], [15, 283, 6], [283, 6, 24], [6, 24, 517], [24, 517, 3], [517, 3, 1], [3, 1, 506], [1, 506, 1042], [506, 1042, 87], [1042, 87, 50], [87, 50, 1], [50, 1, 11], [1, 11, 9], [11, 9, 3], [9, 3, 22], [3, 22, 477], [22, 477, 2], [477, 2, 1], [2, 1, 10], [1, 10, 14], [10, 14, 1043], [14, 1043, 1], [1043, 1, 105], [1, 105, 338], [105, 338, 80], [338, 80, 254], [80, 254, 27], [254, 27, 1], [27, 1, 1044], [1, 1044, 80], [1044, 80, 4], [80, 4, 162], [4, 162, 68], [162, 68, 57], [68, 57, 3], [57, 3, 73], [3, 73, 213], [73, 213, 2], [213, 2, 63], [2, 63, 110], [63, 110, 142], [110, 142, 2], [142, 2, 315], [2, 315, 316], [315, 316, 5], [316, 5, 3], [5, 3, 317], [3, 317, 93], [317, 93, 7], [93, 7, 518], [7, 518, 28], [518, 28, 2], [28, 2, 26], [2, 26, 519], [26, 519, 1045], [519, 1045, 315], [1045, 315, 316], [315, 316, 5], [316, 5, 119], [5, 119, 5], [119, 5, 131], [5, 131, 162], [131, 162, 68], [162, 68, 57], [68, 57, 3], [57, 3, 355], [3, 355, 1046], [355, 1046, 1047], [1046, 1047, 4], [1047, 4, 95], [4, 95, 246], [95, 246, 18], [246, 18, 317], [18, 317, 93], [317, 93, 225], [93, 225, 69], [225, 69, 27], [69, 27, 520], [27, 520, 28], [520, 28, 2], [28, 2, 119], [2, 119, 5], [119, 5, 131], [5, 131, 521], [131, 521, 18], [521, 18, 14], [18, 14, 2], [14, 2, 17], [2, 17, 7], [17, 7, 1048], [7, 1048, 1049], [1048, 1049, 25], [1049, 25, 218], [25, 218, 479], [218, 479, 4], [479, 4, 522], [4, 522, 2], [522, 2, 119], [2, 119, 5], [119, 5, 1050], [5, 1050, 6], [1050, 6, 99], [6, 99, 74], [99, 74, 107], [74, 107, 252], [107, 252, 2], [252, 2, 377], [2, 377, 315], [377, 315, 316], [315, 316, 131], [316, 131, 162], [131, 162, 68], [162, 68, 188], [68, 188, 16], [188, 16, 523], [16, 523, 1051], [523, 1051, 1052], [1051, 1052, 1053], [1052, 1053, 1054], [1053, 1054, 523], [1054, 523, 171], [523, 171, 1055], [171, 1055, 524], [1055, 524, 1056], [524, 1056, 398], [1056, 398, 4], [398, 4, 1057], [4, 1057, 193], [1057, 193, 109], [193, 109, 45], [109, 45, 257], [45, 257, 14], [257, 14, 35], [14, 35, 93], [35, 93, 155], [93, 155, 30], [155, 30, 1058], [30, 1058, 318], [1058, 318, 8], [318, 8, 1], [8, 1, 116], [1, 116, 61], [116, 61, 218], [61, 218, 10], [218, 10, 4], [10, 4, 5], [4, 5, 79], [5, 79, 1059], [79, 1059, 61], [1059, 61, 10], [61, 10, 376], [10, 376, 1], [376, 1, 1060], [1, 1060, 428], [1060, 428, 61], [428, 61, 10], [61, 10, 525], [10, 525, 6], [525, 6, 1061], [6, 1061, 8], [1061, 8, 1], [8, 1, 436], [1, 436, 2], [436, 2, 110], [2, 110, 266], [110, 266, 2], [266, 2, 119], [2, 119, 5], [119, 5, 318], [5, 318, 8], [318, 8, 1], [8, 1, 79], [1, 79, 61], [79, 61, 155], [61, 155, 30], [155, 30, 521], [30, 521, 18], [521, 18, 318], [18, 318, 8], [318, 8, 1], [8, 1, 116], [1, 116, 218], [116, 218, 61], [218, 61, 134], [61, 134, 302], [134, 302, 1062], [302, 1062, 4], [1062, 4, 522], [4, 522, 2], [522, 2, 119], [2, 119, 5], [119, 5, 16], [5, 16, 1], [16, 1, 415], [1, 415, 183], [415, 183, 155], [183, 155, 1063], [155, 1063, 1064], [1063, 1064, 275], [1064, 275, 1065], [275, 1065, 526], [1065, 526, 2], [526, 2, 218], [2, 218, 3], [218, 3, 1066], [3, 1066, 520], [1066, 520, 1], [520, 1, 1067], [1, 1067, 119], [1067, 119, 5], [119, 5, 28], [5, 28, 2], [28, 2, 1], [2, 1, 86], [1, 86, 183], [86, 183, 3], [183, 3, 1], [3, 1, 502], [1, 502, 317], [502, 317, 93], [317, 93, 1], [93, 1, 88], [1, 88, 103], [88, 103, 10], [103, 10, 96], [10, 96, 527], [96, 527, 9], [527, 9, 528], [9, 528, 8], [528, 8, 319], [8, 319, 4], [319, 4, 386], [4, 386, 8], [386, 8, 320], [8, 320, 133], [320, 133, 2], [133, 2, 1], [2, 1, 334], [1, 334, 1068], [334, 1068, 12], [1068, 12, 3], [12, 3, 1], [3, 1, 96], [1, 96, 527], [96, 527, 88], [527, 88, 103], [88, 103, 10], [103, 10, 5], [10, 5, 1069], [5, 1069, 469], [1069, 469, 1070], [469, 1070, 3], [1070, 3, 101], [3, 101, 1071], [101, 1071, 125], [1071, 125, 1072], [125, 1072, 31], [1072, 31, 169], [31, 169, 3], [169, 3, 529], [3, 529, 2], [529, 2, 1073], [2, 1073, 1074], [1073, 1074, 186], [1074, 186, 96], [186, 96, 61], [96, 61, 356], [61, 356, 1075], [356, 1075, 530], [1075, 530, 411], [530, 411, 287], [411, 287, 74], [287, 74, 2], [74, 2, 531], [2, 531, 61], [531, 61, 321], [61, 321, 24], [321, 24, 255], [24, 255, 159], [255, 159, 1076], [159, 1076, 6], [1076, 6, 1077], [6, 1077, 43], [1077, 43, 1078], [43, 1078, 5], [1078, 5, 1079], [5, 1079, 454], [1079, 454, 4], [454, 4, 152], [4, 152, 1080], [152, 1080, 532], [1080, 532, 533], [532, 533, 133], [533, 133, 1081], [133, 1081, 1082], [1081, 1082, 2], [1082, 2, 1], [2, 1, 96], [1, 96, 406], [96, 406, 321], [406, 321, 91], [321, 91, 18], [91, 18, 255], [18, 255, 37], [255, 37, 1083], [37, 1083, 267], [1083, 267, 130], [267, 130, 198], [130, 198, 1084], [198, 1084, 442], [1084, 442, 2], [442, 2, 61], [2, 61, 96], [61, 96, 1085], [96, 1085, 59], [1085, 59, 7], [59, 7, 237], [7, 237, 86], [237, 86, 1086], [86, 1086, 1087], [1086, 1087, 1088], [1087, 1088, 1], [1088, 1, 319], [1, 319, 306], [319, 306, 35], [306, 35, 91], [35, 91, 270], [91, 270, 14], [270, 14, 96], [14, 96, 9], [96, 9, 1089], [9, 1089, 528], [1089, 528, 8], [528, 8, 1], [8, 1, 1090], [1, 1090, 2], [1090, 2, 1], [2, 1, 532], [1, 532, 533], [532, 533, 4], [533, 4, 14], [4, 14, 1], [14, 1, 319], [1, 319, 306], [319, 306, 3], [306, 3, 1], [3, 1, 1091], [1, 1091, 9], [1091, 9, 1092], [9, 1092, 4], [1092, 4, 226], [4, 226, 37], [226, 37, 1093], [37, 1093, 1094], [1093, 1094, 321], [1094, 321, 152], [321, 152, 314], [152, 314, 320], [314, 320, 1095], [320, 1095, 1096], [1095, 1096, 5], [1096, 5, 156], [5, 156, 1097], [156, 1097, 85], [1097, 85, 8], [85, 8, 96], [8, 96, 3], [96, 3, 320], [3, 320, 1098], [320, 1098, 54], [1098, 54, 531], [54, 531, 205], [531, 205, 2], [205, 2, 160], [2, 160, 4], [160, 4, 161], [4, 161, 67], [161, 67, 12], [67, 12, 3], [12, 3, 534], [3, 534, 95], [534, 95, 535], [95, 535, 36], [535, 36, 3], [36, 3, 1099], [3, 1099, 1], [1099, 1, 536], [1, 536, 537], [536, 537, 95], [537, 95, 311], [95, 311, 1100], [311, 1100, 67], [1100, 67, 12], [67, 12, 3], [12, 3, 1], [3, 1, 160], [1, 160, 4], [160, 4, 161], [4, 161, 66], [161, 66, 24], [66, 24, 68], [24, 68, 69], [68, 69, 3], [69, 3, 5], [3, 5, 1101], [5, 1101, 2], [1101, 2, 95], [2, 95, 1102], [95, 1102, 184], [1102, 184, 176], [184, 176, 205], [176, 205, 9], [205, 9, 51], [9, 51, 456], [51, 456, 254], [456, 254, 21], [254, 21, 1103], [21, 1103, 8], [1103, 8, 487], [8, 487, 67], [487, 67, 12], [67, 12, 3], [12, 3, 534], [3, 534, 536], [534, 536, 95], [536, 95, 535], [95, 535, 36], [535, 36, 248], [36, 248, 1104], [248, 1104, 6], [1104, 6, 81], [6, 81, 297], [81, 297, 1105], [297, 1105, 36], [1105, 36, 7], [36, 7, 38], [7, 38, 1106], [38, 1106, 72], [1106, 72, 62], [72, 62, 185], [62, 185, 129], [185, 129, 390], [129, 390, 43], [390, 43, 36], [43, 36, 7], [36, 7, 81], [7, 81, 62], [81, 62, 185], [62, 185, 44], [185, 44, 2], [44, 2, 1107], [2, 1107, 62], [1107, 62, 530], [62, 530, 1], [530, 1, 42], [1, 42, 2], [42, 2, 529], [2, 529, 129], [529, 129, 1108], [129, 1108, 4], [1108, 4, 44], [4, 44, 1109], [44, 1109, 1110], [1109, 1110, 1111], [1110, 1111, 1112], [1111, 1112, 204], [1112, 204, 160], [204, 160, 67], [160, 67, 12], [67, 12, 13], [12, 13, 23], [13, 23, 3], [23, 3, 249], [3, 249, 36], [249, 36, 303], [36, 303, 44], [303, 44, 67], [44, 67, 11], [67, 11, 1113], [11, 1113, 15], [1113, 15, 57], [15, 57, 3], [57, 3, 1], [3, 1, 161], [1, 161, 10], [161, 10, 1], [10, 1, 100], [1, 100, 2], [100, 2, 160], [2, 160, 10], [160, 10, 11], [10, 11, 3], [11, 3, 132], [3, 132, 1114], [132, 1114, 1115], [1114, 1115, 9], [1115, 9, 199], [9, 199, 1], [199, 1, 451], [1, 451, 1116], [451, 1116, 473], [1116, 473, 69], [473, 69, 4], [69, 4, 1], [4, 1, 161], [1, 161, 11], [161, 11, 9], [11, 9, 1], [9, 1, 156], [1, 156, 11], [156, 11, 57], [11, 57, 3], [57, 3, 26], [3, 26, 10], [26, 10, 1117], [10, 1117, 3], [1117, 3, 1118], [3, 1118, 132], [1118, 132, 91], [132, 91, 152], [91, 152, 165], [152, 165, 505], [165, 505, 2], [505, 2, 1], [2, 1, 160], [1, 160, 10], [160, 10, 3], [10, 3, 537], [3, 537, 95], [537, 95, 4], [95, 4, 1119], [4, 1119, 1], [1119, 1, 85], [1, 85, 2], [85, 2, 1], [2, 1, 161], [1, 161, 10], [161, 10, 27], [10, 27, 5], [27, 5, 95], [5, 95, 1120], [95, 1120, 10], [1120, 10, 153], [10, 153, 2], [153, 2, 70], [2, 70, 84], [70, 84, 60], [84, 60, 216], [60, 216, 538], [216, 538, 3], [538, 3, 1], [3, 1, 135], [1, 135, 59], [135, 59, 2], [59, 2, 82], [2, 82, 83], [82, 83, 17], [83, 17, 1], [17, 1, 46], [1, 46, 1121], [46, 1121, 2], [1121, 2, 82], [2, 82, 83], [82, 83, 29], [83, 29, 9], [29, 9, 1], [9, 1, 170], [1, 170, 2], [170, 2, 22], [2, 22, 1122], [22, 1122, 84], [1122, 84, 60], [84, 60, 3], [60, 3, 1], [3, 1, 380], [1, 380, 1123], [380, 1123, 2], [1123, 2, 1], [2, 1, 29], [1, 29, 105], [29, 105, 124], [105, 124, 10], [124, 10, 65], [10, 65, 211], [65, 211, 497], [211, 497, 44], [497, 44, 2], [44, 2, 1], [2, 1, 1124], [1, 1124, 539], [1124, 539, 2], [539, 2, 1], [2, 1, 29], [1, 29, 11], [29, 11, 9], [11, 9, 22], [9, 22, 1125], [22, 1125, 123], [1125, 123, 403], [123, 403, 2], [403, 2, 70], [2, 70, 181], [70, 181, 1126], [181, 1126, 6], [1126, 6, 22], [6, 22, 1127], [22, 1127, 123], [1127, 123, 1128], [123, 1128, 2], [1128, 2, 70], [2, 70, 163], [70, 163, 41], [163, 41, 202], [41, 202, 4], [202, 4, 48], [4, 48, 204], [48, 204, 1129], [204, 1129, 26], [1129, 26, 163], [26, 163, 525], [163, 525, 6], [525, 6, 30], [6, 30, 540], [30, 540, 541], [540, 541, 128], [541, 128, 170], [128, 170, 4], [170, 4, 1130], [4, 1130, 1131], [1130, 1131, 1], [1131, 1, 1132], [1, 1132, 2], [1132, 2, 22], [2, 22, 269], [22, 269, 539], [269, 539, 14], [539, 14, 1133], [14, 1133, 30], [1133, 30, 78], [30, 78, 7], [78, 7, 1], [7, 1, 466], [1, 466, 245], [466, 245, 2], [245, 2, 1], [2, 1, 25], [1, 25, 434], [25, 434, 1134], [434, 1134, 542], [1134, 542, 50], [542, 50, 159], [50, 159, 48], [159, 48, 17], [48, 17, 1135], [17, 1135, 1136], [1135, 1136, 7], [1136, 7, 22], [7, 22, 198], [22, 198, 190], [198, 190, 2], [190, 2, 295], [2, 295, 4], [295, 4, 22], [4, 22, 1137], [22, 1137, 42], [1137, 42, 2], [42, 2, 47], [2, 47, 26], [47, 26, 1138], [26, 1138, 9], [1138, 9, 51], [9, 51, 1139], [51, 1139, 4], [1139, 4, 542], [4, 542, 50], [542, 50, 216], [50, 216, 1140], [216, 1140, 30], [1140, 30, 374], [30, 374, 27], [374, 27, 22], [27, 22, 1141], [22, 1141, 1142], [1141, 1142, 2], [1142, 2, 42], [2, 42, 2], [42, 2, 47], [2, 47, 3], [47, 3, 322], [3, 322, 6], [322, 6, 128], [6, 128, 494], [128, 494, 1], [494, 1, 543], [1, 543, 2], [543, 2, 29], [2, 29, 84], [29, 84, 60], [84, 60, 70], [60, 70, 163], [70, 163, 21], [163, 21, 24], [21, 24, 286], [24, 286, 60], [286, 60, 216], [60, 216, 166], [216, 166, 323], [166, 323, 139], [323, 139, 3], [139, 3, 1143], [3, 1143, 82], [1143, 82, 83], [82, 83, 17], [83, 17, 7], [17, 7, 1144], [7, 1144, 108], [1144, 108, 190], [108, 190, 4], [190, 4, 84], [4, 84, 60], [84, 60, 159], [60, 159, 323], [159, 323, 139], [323, 139, 1145], [139, 1145, 2], [1145, 2, 90], [2, 90, 287], [90, 287, 117], [287, 117, 21], [117, 21, 24], [21, 24, 23], [24, 23, 5], [23, 5, 302], [5, 302, 153], [302, 153, 2], [153, 2, 1], [2, 1, 159], [1, 159, 538], [159, 538, 323], [538, 323, 139], [323, 139, 125], [139, 125, 6], [125, 6, 242], [6, 242, 84], [242, 84, 60], [84, 60, 159], [60, 159, 4], [159, 4, 1], [4, 1, 139], [1, 139, 1146], [139, 1146, 4], [1146, 4, 1147], [4, 1147, 540], [1147, 540, 541], [540, 541, 128], [541, 128, 170], [128, 170, 1148], [170, 1148, 6], [1148, 6, 1149], [6, 1149, 1150], [1149, 1150, 1], [1150, 1, 543], [1, 543, 24], [543, 24, 1151], [24, 1151, 312], [1151, 312, 364], [312, 364, 1152], [364, 1152, 126], [1152, 126, 14], [126, 14, 269], [14, 269, 262], [269, 262, 46], [262, 46, 4], [46, 4, 43], [4, 43, 189], [43, 189, 268], [189, 268, 127], [268, 127, 1153], [127, 1153, 5], [1153, 5, 85], [5, 85, 3], [85, 3, 70], [3, 70, 181], [70, 181, 544], [181, 544, 199], [544, 199, 545], [199, 545, 546], [545, 546, 544], [546, 544, 219], [544, 219, 9], [219, 9, 5], [9, 5, 79], [5, 79, 121], [79, 121, 2], [121, 2, 1154], [2, 1154, 1155], [1154, 1155, 98], [1155, 98, 16], [98, 16, 1], [16, 1, 28], [1, 28, 2], [28, 2, 1], [2, 1, 492], [1, 492, 519], [492, 519, 1156], [519, 1156, 1157], [1156, 1157, 219], [1157, 219, 9], [219, 9, 292], [9, 292, 27], [292, 27, 22], [27, 22, 143], [22, 143, 222], [143, 222, 1158], [222, 1158, 4], [1158, 4, 510], [4, 510, 7], [510, 7, 5], [7, 5, 123], [5, 123, 100], [123, 100, 3], [100, 3, 1159], [3, 1159, 172], [1159, 172, 2], [172, 2, 5], [2, 5, 1160], [5, 1160, 410], [1160, 410, 303], [410, 303, 1161], [303, 1161, 1162], [1161, 1162, 17], [1162, 17, 7], [17, 7, 219], [7, 219, 24], [219, 24, 68], [24, 68, 69], [68, 69, 18], [69, 18, 226], [18, 226, 1163], [226, 1163, 310], [1163, 310, 21], [310, 21, 547], [21, 547, 1], [547, 1, 121], [1, 121, 3], [121, 3, 194], [3, 194, 17], [194, 17, 1164], [17, 1164, 18], [1164, 18, 99], [18, 99, 498], [99, 498, 36], [498, 36, 197], [36, 197, 545], [197, 545, 546], [545, 546, 18], [546, 18, 1], [18, 1, 80], [1, 80, 2], [80, 2, 1165], [2, 1165, 1], [1165, 1, 108], [1, 108, 526], [108, 526, 2], [526, 2, 219], [2, 219, 9], [219, 9, 474], [9, 474, 1166], [474, 1166, 3], [1166, 3, 1167], [3, 1167, 138], [1167, 138, 3], [138, 3, 1], [3, 1, 1168], [1, 1168, 2], [1168, 2, 1], [2, 1, 25], [1, 25, 4], [25, 4, 101], [4, 101, 2], [101, 2, 1], [2, 1, 17], [1, 17, 31], [17, 31, 547], [31, 547, 1169], [547, 1169, 1], [1169, 1, 42], [1, 42, 2], [42, 2, 74], [2, 74, 117], [74, 117, 134], [117, 134, 394], [134, 394, 35], [394, 35, 17], [35, 17, 1170], [17, 1170, 138], [1170, 138, 382], [138, 382, 266], [382, 266, 2], [266, 2, 1171], [2, 1171, 3], [1171, 3, 548], [3, 548, 435], [548, 435, 455], [435, 455, 9], [455, 9, 1172], [9, 1172, 16], [1172, 16, 548], [16, 548, 524], [548, 524, 1], [524, 1, 223], [1, 223, 322], [223, 322, 2], [322, 2, 66], [2, 66, 1173], [66, 1173, 1], [1173, 1, 297], [1, 297, 1174], [297, 1174, 1175], [1174, 1175, 324], [1175, 324, 56], [324, 56, 19], [56, 19, 4], [19, 4, 28], [4, 28, 2], [28, 2, 1], [2, 1, 156], [1, 156, 182], [156, 182, 2], [182, 2, 92], [2, 92, 1], [92, 1, 457], [1, 457, 2], [457, 2, 1], [2, 1, 66], [1, 66, 214], [66, 214, 8], [214, 8, 20], [8, 20, 6], [20, 6, 201], [6, 201, 214], [201, 214, 8], [214, 8, 324], [8, 324, 56], [324, 56, 19], [56, 19, 325], [19, 325, 4], [325, 4, 8], [4, 8, 28], [8, 28, 2], [28, 2, 1], [2, 1, 156], [1, 156, 182], [156, 182, 2], [182, 2, 92], [2, 92, 55], [92, 55, 15], [55, 15, 286], [15, 286, 3], [286, 3, 36], [3, 36, 2], [36, 2, 17], [2, 17, 7], [17, 7, 1176], [7, 1176, 246], [1176, 246, 458], [246, 458, 17], [458, 17, 13], [17, 13, 248], [13, 248, 172], [248, 172, 1177], [172, 1177, 13], [1177, 13, 1178], [13, 1178, 43], [1178, 43, 186], [43, 186, 8], [186, 8, 55], [8, 55, 28], [55, 28, 427], [28, 427, 36], [427, 36, 7], [36, 7, 424], [7, 424, 549], [424, 549, 136], [549, 136, 8], [136, 8, 55], [8, 55, 28], [55, 28, 13], [28, 13, 23], [13, 23, 2], [23, 2, 1179], [2, 1179, 136], [1179, 136, 550], [136, 550, 81], [550, 81, 1180], [81, 1180, 13], [1180, 13, 264], [13, 264, 48], [264, 48, 1], [48, 1, 55], [1, 55, 28], [55, 28, 10], [28, 10, 4], [10, 4, 1], [4, 1, 20], [1, 20, 19], [20, 19, 10], [19, 10, 7], [10, 7, 5], [7, 5, 220], [5, 220, 158], [220, 158, 2], [158, 2, 221], [2, 221, 1181], [221, 1181, 5], [1181, 5, 551], [5, 551, 552], [551, 552, 2], [552, 2, 373], [2, 373, 15], [373, 15, 553], [15, 553, 8], [553, 8, 486], [8, 486, 48], [486, 48, 55], [48, 55, 28], [55, 28, 4], [28, 4, 20], [4, 20, 19], [20, 19, 38], [19, 38, 5], [38, 5, 278], [5, 278, 301], [278, 301, 554], [301, 554, 2], [554, 2, 1], [2, 1, 220], [1, 220, 158], [220, 158, 2], [158, 2, 221], [2, 221, 555], [221, 555, 1182], [555, 1182, 36], [1182, 36, 7], [36, 7, 249], [7, 249, 136], [249, 136, 549], [136, 549, 8], [549, 8, 41], [8, 41, 324], [41, 324, 56], [324, 56, 19], [56, 19, 556], [19, 556, 4], [556, 4, 20], [4, 20, 19], [20, 19, 13], [19, 13, 23], [13, 23, 2], [23, 2, 1183], [2, 1183, 136], [1183, 136, 550], [136, 550, 72], [550, 72, 557], [72, 557, 13], [557, 13, 23], [13, 23, 1184], [23, 1184, 5], [1184, 5, 220], [5, 220, 158], [220, 158, 2], [158, 2, 221], [2, 221, 1185], [221, 1185, 5], [1185, 5, 551], [5, 551, 552], [551, 552, 2], [552, 2, 250], [2, 250, 48], [250, 48, 20], [48, 20, 19], [20, 19, 4], [19, 4, 56], [4, 56, 19], [56, 19, 325], [19, 325, 15], [325, 15, 553], [15, 553, 38], [553, 38, 5], [38, 5, 278], [5, 278, 301], [278, 301, 554], [301, 554, 2], [554, 2, 1], [2, 1, 220], [1, 220, 158], [220, 158, 2], [158, 2, 221], [2, 221, 555], [221, 555, 5], [555, 5, 1186], [5, 1186, 15], [1186, 15, 283], [15, 283, 6], [283, 6, 24], [6, 24, 517], [24, 517, 48], [517, 48, 66], [48, 66, 8], [66, 8, 56], [8, 56, 19], [56, 19, 4], [19, 4, 20], [4, 20, 326], [20, 326, 3], [326, 3, 224], [3, 224, 20], [224, 20, 326], [20, 326, 1187], [326, 1187, 7], [1187, 7, 20], [7, 20, 5], [20, 5, 4], [5, 4, 19], [4, 19, 35], [19, 35, 45], [35, 45, 173], [45, 173, 14], [173, 14, 1], [14, 1, 66], [1, 66, 8], [66, 8, 56], [8, 56, 19], [56, 19, 4], [19, 4, 55], [4, 55, 28], [55, 28, 31], [28, 31, 446], [31, 446, 1188], [446, 1188, 201], [1188, 201, 8], [201, 8, 20], [8, 20, 14], [20, 14, 1], [14, 1, 322], [1, 322, 2], [322, 2, 1189], [2, 1189, 9], [1189, 9, 20], [9, 20, 5], [20, 5, 19], [5, 19, 326], [19, 326, 56], [326, 56, 19], [56, 19, 556], [19, 556, 55], [556, 55, 28], [55, 28, 14], [28, 14, 1], [14, 1, 66], [1, 66, 214], [66, 214, 8], [214, 8, 55], [8, 55, 28], [55, 28, 4], [28, 4, 56], [4, 56, 19], [56, 19, 325], [19, 325, 31], [325, 31, 405], [31, 405, 99], [405, 99, 74], [99, 74, 1190], [74, 1190, 18], [1190, 18, 1], [18, 1, 20], [1, 20, 5], [20, 5, 4], [5, 4, 20], [4, 20, 19], [20, 19, 372], [19, 372, 4], [372, 4, 14], [4, 14, 1], [14, 1, 518], [1, 518, 401], [518, 401, 2], [401, 2, 557], [2, 557, 48], [557, 48, 1], [48, 1, 56], [1, 56, 19], [56, 19, 10], [19, 10, 4], [10, 4, 55], [4, 55, 28], [55, 28, 10], [28, 10, 229], [10, 229, 14], [229, 14, 35], [14, 35, 81], [35, 81, 66], [81, 66, 1191], [66, 1191, 3], [1191, 3, 1192], [3, 1192, 1193], [1192, 1193, 6], [1193, 6, 44], [6, 44, 304]]\n",
      "Total Sequences: 4117\n",
      "3\n",
      "Max Sequence Length: 3\n",
      "[[ 558    2   49]\n",
      " [   2   49   12]\n",
      " [  49   12    3]\n",
      " ...\n",
      " [1192 1193    6]\n",
      " [1193    6   44]\n",
      " [   6   44  304]]\n",
      "[[ 558    2]\n",
      " [   2   49]\n",
      " [  49   12]\n",
      " ...\n",
      " [1192 1193]\n",
      " [1193    6]\n",
      " [   6   44]]\n",
      "[[0. 0. 0. ... 0. 0. 0.]\n",
      " [0. 0. 0. ... 0. 0. 0.]\n",
      " [0. 0. 0. ... 0. 0. 0.]\n",
      " ...\n",
      " [0. 0. 0. ... 0. 0. 0.]\n",
      " [0. 0. 0. ... 0. 0. 0.]\n",
      " [0. 0. 0. ... 0. 0. 0.]]\n"
     ]
    },
    {
     "data": {
      "text/plain": [
       "\"\\n# define model\\nmodel = Sequential()\\nmodel.add(Embedding(vocab_size, 10, input_length=max_length-1))\\nmodel.add(LSTM(50))\\nmodel.add(Dense(vocab_size, activation='softmax'))\\nprint(model.summary())\\n# compile network\\nmodel.compile(loss='categorical_crossentropy', optimizer='adam', metrics=['accuracy'])\\n# fit network\\nmodel.fit(X, y, epochs=500, verbose=2) \\n\""
      ]
     },
     "execution_count": 35,
     "metadata": {},
     "output_type": "execute_result"
    }
   ],
   "source": [
    "#code for Task D\n",
    "\n",
    "from numpy import array\n",
    "from keras.preprocessing.text import Tokenizer\n",
    "from keras.utils import to_categorical\n",
    "from keras.preprocessing.sequence import pad_sequences\n",
    "from keras.models import Sequential\n",
    "from keras.layers import Dense\n",
    "from keras.layers import LSTM\n",
    "from keras.layers import Embedding\n",
    "\n",
    "\n",
    "## Prepare the corpus from the .txt files and store it in a string variable i.e data_str. It should contain the \n",
    "## sentences splitted by \"\\n\".\n",
    "import os, glob\n",
    "\n",
    "os.chdir(\"NCBI_Data\")\n",
    "data=[]\n",
    "for file in glob.glob(\"*.txt\"):\n",
    "\tf=open(file)\n",
    "\tcontent=f.read()\n",
    "\tfor line in content.split(\"\\n\"):\n",
    "\t\tif(line!=\"\"):\n",
    "\t\t\tdata.append(line)\n",
    "\n",
    "#print(data)\n",
    "data_str=\"\\n\".join(data)\n",
    "#print(data_str)\n",
    "\n",
    "tokenizer = Tokenizer()\n",
    "tokenizer.fit_on_texts([data_str])\n",
    "\n",
    "# Write the code for encoding text to sequences here and store in encoded\n",
    "encoded = tokenizer.texts_to_sequences([data_str])\n",
    "encoded = encoded[0]\n",
    "\n",
    "# retrieve vocabulary size\n",
    "vocab_size = len(tokenizer.word_index) + 1\n",
    "print('Vocabulary Size: %d' % vocab_size)\n",
    "# encode 2 words -> 1 word\n",
    "sequences = []\n",
    "for i in range(2, len(encoded)):\n",
    "\tsequence = encoded[i-2:i+1]\n",
    "\tsequences.append(sequence)\n",
    "\n",
    "print('Total Sequences: %d' % len(sequences))\n",
    "# pad sequences\n",
    "max_length = max([len(seq) for seq in sequences])\n",
    "sequences = pad_sequences(sequences, maxlen=max_length, padding='pre')\n",
    "print('Max Sequence Length: %d' % max_length)\n",
    "# split into input and output elements\n",
    "sequences = array(sequences)\n",
    "X, y = sequences[:,:-1],sequences[:,-1]\n",
    "y = to_categorical(y, num_classes=vocab_size)\n",
    "\n",
    "# define model\n",
    "model = Sequential()\n",
    "model.add(Embedding(vocab_size, 10, input_length=max_length-1))\n",
    "model.add(LSTM(50))\n",
    "model.add(Dense(vocab_size, activation='softmax'))\n",
    "print(model.summary())\n",
    "# compile network\n",
    "model.compile(loss='categorical_crossentropy', optimizer='adam', metrics=['accuracy'])\n",
    "# fit network\n",
    "model.fit(X, y, epochs=500, verbose=2) "
   ]
  },
  {
   "cell_type": "code",
   "execution_count": 53,
   "metadata": {},
   "outputs": [
    {
     "name": "stdout",
     "output_type": "stream",
     "text": [
      "A new tumor suppressor gene, PTEN/MMAC1, was isolated recently at\n",
      "The average age of disease concordance\n"
     ]
    }
   ],
   "source": [
    "#generate the sequence \n",
    "\n",
    "def generate_seq(model, tokenizer, max_length, seed_text, n_words):\n",
    "    \n",
    "    in_text = seed_text\n",
    "    context = seed_text.split(\" \")[-2] + \" \" + seed_text.split(\" \")[-1]\n",
    "    sequences = tokenizer.texts_to_sequences([context])\n",
    "    max_length = 2\n",
    "    #max_length = max([len(seq) for seq in sequences])\n",
    "    sequences = pad_sequences(sequences, maxlen=max_length, padding='pre')\n",
    "    sequences = array(sequences)\n",
    "    y_prob = model.predict(sequences)\n",
    "    y_class = y_prob.argmax(axis=-1)\n",
    "    in_text = in_text + \" \" + tokenizer.sequences_to_texts([y_class])[0]\n",
    "    return in_text\n",
    "\n",
    "# evaluate model\n",
    "print(generate_seq(model, tokenizer, max_length-1, 'A new tumor suppressor gene, PTEN/MMAC1, was isolated recently', 1))\n",
    "print(generate_seq(model, tokenizer, max_length-1, 'The average age of disease', 1))\n"
   ]
  }
 ],
 "metadata": {
  "kernelspec": {
   "display_name": "Python 3",
   "language": "python",
   "name": "python3"
  },
  "language_info": {
   "codemirror_mode": {
    "name": "ipython",
    "version": 3
   },
   "file_extension": ".py",
   "mimetype": "text/x-python",
   "name": "python",
   "nbconvert_exporter": "python",
   "pygments_lexer": "ipython3",
   "version": "3.7.3"
  }
 },
 "nbformat": 4,
 "nbformat_minor": 2
}
